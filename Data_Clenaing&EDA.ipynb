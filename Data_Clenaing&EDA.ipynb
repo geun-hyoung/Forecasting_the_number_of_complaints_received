{
  "nbformat": 4,
  "nbformat_minor": 0,
  "metadata": {
    "colab": {
      "provenance": [],
      "toc_visible": true,
      "mount_file_id": "13na-pHKkzkIYZJSRWZL9Yko-rCDuwxf3",
      "authorship_tag": "ABX9TyO6zw9Ndq4hjAzp4GTrKw0y",
      "include_colab_link": true
    },
    "kernelspec": {
      "name": "python3",
      "display_name": "Python 3"
    },
    "language_info": {
      "name": "python"
    }
  },
  "cells": [
    {
      "cell_type": "markdown",
      "metadata": {
        "id": "view-in-github",
        "colab_type": "text"
      },
      "source": [
        "<a href=\"https://colab.research.google.com/github/geun-hyoung/Forecasting_the_number_of_complaints_received/blob/main/Data_Clenaing%26EDA.ipynb\" target=\"_parent\"><img src=\"https://colab.research.google.com/assets/colab-badge.svg\" alt=\"Open In Colab\"/></a>"
      ]
    },
    {
      "cell_type": "markdown",
      "source": [
        "### Data Load(Concat)& Library "
      ],
      "metadata": {
        "id": "dGhBpi8NTqkb"
      }
    },
    {
      "cell_type": "code",
      "source": [
        "# google drive\n",
        "from google.colab import drive\n",
        "drive.mount('/content/drive') # Connect to drive"
      ],
      "metadata": {
        "id": "v1R7c_FwcyFf",
        "outputId": "d68399d6-4f4e-4483-baa4-101313e63a0a",
        "colab": {
          "base_uri": "https://localhost:8080/"
        }
      },
      "execution_count": 1,
      "outputs": [
        {
          "output_type": "stream",
          "name": "stdout",
          "text": [
            "Drive already mounted at /content/drive; to attempt to forcibly remount, call drive.mount(\"/content/drive\", force_remount=True).\n"
          ]
        }
      ]
    },
    {
      "cell_type": "code",
      "execution_count": 2,
      "metadata": {
        "id": "1Yetpkx2GW5Y"
      },
      "outputs": [],
      "source": [
        "import pandas as pd\n",
        "import numpy as np\n",
        "\n",
        "import seaborn as sns\n",
        "import matplotlib.pyplot as plt\n",
        "\n",
        "import folium\n",
        "from folium import plugins\n",
        "from folium.features import DivIcon\n",
        "\n",
        "import json\n",
        "import requests"
      ]
    },
    {
      "cell_type": "code",
      "source": [
        "# 112 factor = 112 신고 접수량의 융합 요소 데이터\n",
        "fusion_element = pd.concat([\n",
        "    pd.read_csv('/content/drive/MyDrive/데이터마이닝/112factor_19.csv', encoding = 'cp949'),\n",
        "    pd.read_csv('/content/drive/MyDrive/데이터마이닝/112factor_20.csv', encoding = 'cp949'),\n",
        "    pd.read_csv('/content/drive/MyDrive/데이터마이닝/112factor_21.csv', encoding = 'cp949')], axis = 0)\n",
        "\n",
        "# korean_112 = 112신고접수량 데이터\n",
        "report_data = pd.concat([ \n",
        "    pd.read_csv('/content/drive/MyDrive/데이터마이닝/Korea_112_19.csv', encoding = 'cp949'),\n",
        "    pd.read_csv('/content/drive/MyDrive/데이터마이닝/Korea_112_20.csv', encoding = 'cp949'),\n",
        "    pd.read_csv('/content/drive/MyDrive/데이터마이닝/Korea_112_21.csv', encoding = 'cp949')], axis = 0)\n",
        "\n",
        "print(\"융합 요소 데이터 갯수:\", fusion_element.shape)\n",
        "print(\"신고 데이터 갯수:\", report_data.shape)"
      ],
      "metadata": {
        "colab": {
          "base_uri": "https://localhost:8080/"
        },
        "id": "sWoN1zC4Kq4P",
        "outputId": "34fe4cf0-94e8-4790-8397-16fdda219e96"
      },
      "execution_count": 3,
      "outputs": [
        {
          "output_type": "stream",
          "name": "stdout",
          "text": [
            "융합 요소 데이터 갯수: (9934, 28)\n",
            "신고 데이터 갯수: (9946, 43)\n"
          ]
        }
      ]
    },
    {
      "cell_type": "code",
      "source": [
        "# 두 데이터셋이 공통 값인데도 불구하고 맞지 않은 경우가 있어, 신고접수량 데이터를 기준으로 통일\n",
        "fusion_element.drop(labels =['RPRT_CASCNT_WHOL', 'RPRT_SEX_MALE',\n",
        "       'RPRT_SEX_FMLE', 'RPRT_SEX_UNKWN', 'RPRT_SEX_ETC',\n",
        "       'ACPT_EMERG_TYPE_EMERG', 'ACPT_EMERG_TYPE_IMPRTNC',\n",
        "       'ACPT_EMERG_TYPE_GNRL', 'ACPT_EMERG_TYPE_CVAPP', 'ACPT_EMERG_TYPE_ETC',\n",
        "       'OCRN_DOTW_SNDD', 'OCRN_DOTW_MON', 'OCRN_DOTW_TUE', 'OCRN_DOTW_WED',\n",
        "       'OCRN_DOTW_THU', 'OCRN_DOTW_FRI', 'OCRN_DOTW_SAT', 'MNTH_AVE_INCOME_AMT', \n",
        "       'TOTL_RESID_PUL_CNT'], axis = 1, inplace = True)"
      ],
      "metadata": {
        "id": "GVoc2c3oGeJa"
      },
      "execution_count": 4,
      "outputs": []
    },
    {
      "cell_type": "code",
      "source": [
        "# 신고 접수량 데이터셋에는 고성이 X\n",
        "fusion_element.drop(index = fusion_element[fusion_element['PLCST_NM'] == '고성'].index, axis = 0, inplace = True)"
      ],
      "metadata": {
        "id": "GElsbghTHT8S"
      },
      "execution_count": 5,
      "outputs": []
    },
    {
      "cell_type": "code",
      "source": [
        "# 112 융합 요소 데이터와 + 112 신고 접수 데이터 결합\n",
        "df = pd.merge(report_data, fusion_element, how = 'left', on = (\"ACPT_YM\", \"PLCST_NM\"))"
      ],
      "metadata": {
        "id": "AG0DihsnHjfq"
      },
      "execution_count": 6,
      "outputs": []
    },
    {
      "cell_type": "code",
      "source": [
        "# 결측치 제거\n",
        "df.dropna(axis=0,inplace = True)"
      ],
      "metadata": {
        "id": "ohdVFFf5HzYy"
      },
      "execution_count": 7,
      "outputs": []
    },
    {
      "cell_type": "code",
      "source": [
        "# 전체 데이터 셋\n",
        "df.shape"
      ],
      "metadata": {
        "id": "ReRcnsnFH1pa",
        "outputId": "0d6de239-16b8-4128-c13f-f31fa244483d",
        "colab": {
          "base_uri": "https://localhost:8080/"
        }
      },
      "execution_count": 8,
      "outputs": [
        {
          "output_type": "execute_result",
          "data": {
            "text/plain": [
              "(9898, 50)"
            ]
          },
          "metadata": {},
          "execution_count": 8
        }
      ]
    },
    {
      "cell_type": "code",
      "source": [
        "# Time 형식으로 변환 과정\n",
        "def change_dt(values):\n",
        "    return str(values)[0:4] + '-' + str(values)[4:] \n",
        "\n",
        "df['ACPT_YM'] = df['ACPT_YM'].apply(change_dt)\n",
        "\n",
        "# 데이터 형식 변경\n",
        "import datetime as dt\n",
        "df['ACPT_YM'] = df['ACPT_YM'].apply(lambda x: dt.datetime.strptime(x, \"%Y-%m\"))"
      ],
      "metadata": {
        "id": "Dl7BStMULWo3"
      },
      "execution_count": 9,
      "outputs": []
    },
    {
      "cell_type": "code",
      "source": [
        "df.head()"
      ],
      "metadata": {
        "id": "Fh-IgDacfd6l",
        "outputId": "eaefe20d-7777-4f8a-be15-a1202244bed2",
        "colab": {
          "base_uri": "https://localhost:8080/",
          "height": 386
        }
      },
      "execution_count": 10,
      "outputs": [
        {
          "output_type": "execute_result",
          "data": {
            "text/plain": [
              "     ACPT_YM PLCST_NM  RPRT_CASCNT_WHOL  RPRT_SEX_MALE  RPRT_SEX_FMLE  \\\n",
              "0 2019-01-01      ETC            489051         164430          90192   \n",
              "1 2019-01-01     서울노원              6826           3836           2088   \n",
              "2 2019-01-01     서울방배              2202           1276            696   \n",
              "3 2019-01-01     서울중랑              7413           3728           2713   \n",
              "4 2019-01-01     화성동탄              5324           3159           1398   \n",
              "\n",
              "   RPRT_SEX_UNKWN  RPRT_SEX_ETC  ACPT_EMERG_TYPE_EMERG  \\\n",
              "0           73257        161172                      6   \n",
              "1             899             3                     93   \n",
              "2             230             0                     18   \n",
              "3             970             2                     62   \n",
              "4             765             2                     27   \n",
              "\n",
              "   ACPT_EMERG_TYPE_IMPRTNC  ACPT_EMERG_TYPE_GNRL  ...  OCRN_TIZN_21  \\\n",
              "0                      248                   977  ...         26575   \n",
              "1                     1697                  3681  ...           345   \n",
              "2                      521                  1193  ...           117   \n",
              "3                     1587                  3805  ...           485   \n",
              "4                     1539                  2694  ...           235   \n",
              "\n",
              "   OCRN_TIZN_22  OCRN_TIZN_23  CFINC_DSTVC  CFINC_DTVC  CFINC_MRDR  \\\n",
              "0         24972         22933        114.0        30.0         3.0   \n",
              "1           383           437        254.0        17.0         0.0   \n",
              "2           138           188         28.0        13.0         0.0   \n",
              "3           427           497        188.0        16.0         0.0   \n",
              "4           291           325        173.0        22.0         3.0   \n",
              "\n",
              "   CFINC_SVLNC  CFINC_SUCD  CFINC_INCVLC  CFINC_ETC  \n",
              "0         18.0        28.0         304.0   488554.0  \n",
              "1         17.0        44.0         329.0     6165.0  \n",
              "2          1.0        19.0          71.0     2070.0  \n",
              "3         22.0        49.0         346.0     6792.0  \n",
              "4          5.0        24.0         214.0     4883.0  \n",
              "\n",
              "[5 rows x 50 columns]"
            ],
            "text/html": [
              "\n",
              "  <div id=\"df-32f81830-da50-4248-9258-7fa42de64558\">\n",
              "    <div class=\"colab-df-container\">\n",
              "      <div>\n",
              "<style scoped>\n",
              "    .dataframe tbody tr th:only-of-type {\n",
              "        vertical-align: middle;\n",
              "    }\n",
              "\n",
              "    .dataframe tbody tr th {\n",
              "        vertical-align: top;\n",
              "    }\n",
              "\n",
              "    .dataframe thead th {\n",
              "        text-align: right;\n",
              "    }\n",
              "</style>\n",
              "<table border=\"1\" class=\"dataframe\">\n",
              "  <thead>\n",
              "    <tr style=\"text-align: right;\">\n",
              "      <th></th>\n",
              "      <th>ACPT_YM</th>\n",
              "      <th>PLCST_NM</th>\n",
              "      <th>RPRT_CASCNT_WHOL</th>\n",
              "      <th>RPRT_SEX_MALE</th>\n",
              "      <th>RPRT_SEX_FMLE</th>\n",
              "      <th>RPRT_SEX_UNKWN</th>\n",
              "      <th>RPRT_SEX_ETC</th>\n",
              "      <th>ACPT_EMERG_TYPE_EMERG</th>\n",
              "      <th>ACPT_EMERG_TYPE_IMPRTNC</th>\n",
              "      <th>ACPT_EMERG_TYPE_GNRL</th>\n",
              "      <th>...</th>\n",
              "      <th>OCRN_TIZN_21</th>\n",
              "      <th>OCRN_TIZN_22</th>\n",
              "      <th>OCRN_TIZN_23</th>\n",
              "      <th>CFINC_DSTVC</th>\n",
              "      <th>CFINC_DTVC</th>\n",
              "      <th>CFINC_MRDR</th>\n",
              "      <th>CFINC_SVLNC</th>\n",
              "      <th>CFINC_SUCD</th>\n",
              "      <th>CFINC_INCVLC</th>\n",
              "      <th>CFINC_ETC</th>\n",
              "    </tr>\n",
              "  </thead>\n",
              "  <tbody>\n",
              "    <tr>\n",
              "      <th>0</th>\n",
              "      <td>2019-01-01</td>\n",
              "      <td>ETC</td>\n",
              "      <td>489051</td>\n",
              "      <td>164430</td>\n",
              "      <td>90192</td>\n",
              "      <td>73257</td>\n",
              "      <td>161172</td>\n",
              "      <td>6</td>\n",
              "      <td>248</td>\n",
              "      <td>977</td>\n",
              "      <td>...</td>\n",
              "      <td>26575</td>\n",
              "      <td>24972</td>\n",
              "      <td>22933</td>\n",
              "      <td>114.0</td>\n",
              "      <td>30.0</td>\n",
              "      <td>3.0</td>\n",
              "      <td>18.0</td>\n",
              "      <td>28.0</td>\n",
              "      <td>304.0</td>\n",
              "      <td>488554.0</td>\n",
              "    </tr>\n",
              "    <tr>\n",
              "      <th>1</th>\n",
              "      <td>2019-01-01</td>\n",
              "      <td>서울노원</td>\n",
              "      <td>6826</td>\n",
              "      <td>3836</td>\n",
              "      <td>2088</td>\n",
              "      <td>899</td>\n",
              "      <td>3</td>\n",
              "      <td>93</td>\n",
              "      <td>1697</td>\n",
              "      <td>3681</td>\n",
              "      <td>...</td>\n",
              "      <td>345</td>\n",
              "      <td>383</td>\n",
              "      <td>437</td>\n",
              "      <td>254.0</td>\n",
              "      <td>17.0</td>\n",
              "      <td>0.0</td>\n",
              "      <td>17.0</td>\n",
              "      <td>44.0</td>\n",
              "      <td>329.0</td>\n",
              "      <td>6165.0</td>\n",
              "    </tr>\n",
              "    <tr>\n",
              "      <th>2</th>\n",
              "      <td>2019-01-01</td>\n",
              "      <td>서울방배</td>\n",
              "      <td>2202</td>\n",
              "      <td>1276</td>\n",
              "      <td>696</td>\n",
              "      <td>230</td>\n",
              "      <td>0</td>\n",
              "      <td>18</td>\n",
              "      <td>521</td>\n",
              "      <td>1193</td>\n",
              "      <td>...</td>\n",
              "      <td>117</td>\n",
              "      <td>138</td>\n",
              "      <td>188</td>\n",
              "      <td>28.0</td>\n",
              "      <td>13.0</td>\n",
              "      <td>0.0</td>\n",
              "      <td>1.0</td>\n",
              "      <td>19.0</td>\n",
              "      <td>71.0</td>\n",
              "      <td>2070.0</td>\n",
              "    </tr>\n",
              "    <tr>\n",
              "      <th>3</th>\n",
              "      <td>2019-01-01</td>\n",
              "      <td>서울중랑</td>\n",
              "      <td>7413</td>\n",
              "      <td>3728</td>\n",
              "      <td>2713</td>\n",
              "      <td>970</td>\n",
              "      <td>2</td>\n",
              "      <td>62</td>\n",
              "      <td>1587</td>\n",
              "      <td>3805</td>\n",
              "      <td>...</td>\n",
              "      <td>485</td>\n",
              "      <td>427</td>\n",
              "      <td>497</td>\n",
              "      <td>188.0</td>\n",
              "      <td>16.0</td>\n",
              "      <td>0.0</td>\n",
              "      <td>22.0</td>\n",
              "      <td>49.0</td>\n",
              "      <td>346.0</td>\n",
              "      <td>6792.0</td>\n",
              "    </tr>\n",
              "    <tr>\n",
              "      <th>4</th>\n",
              "      <td>2019-01-01</td>\n",
              "      <td>화성동탄</td>\n",
              "      <td>5324</td>\n",
              "      <td>3159</td>\n",
              "      <td>1398</td>\n",
              "      <td>765</td>\n",
              "      <td>2</td>\n",
              "      <td>27</td>\n",
              "      <td>1539</td>\n",
              "      <td>2694</td>\n",
              "      <td>...</td>\n",
              "      <td>235</td>\n",
              "      <td>291</td>\n",
              "      <td>325</td>\n",
              "      <td>173.0</td>\n",
              "      <td>22.0</td>\n",
              "      <td>3.0</td>\n",
              "      <td>5.0</td>\n",
              "      <td>24.0</td>\n",
              "      <td>214.0</td>\n",
              "      <td>4883.0</td>\n",
              "    </tr>\n",
              "  </tbody>\n",
              "</table>\n",
              "<p>5 rows × 50 columns</p>\n",
              "</div>\n",
              "      <button class=\"colab-df-convert\" onclick=\"convertToInteractive('df-32f81830-da50-4248-9258-7fa42de64558')\"\n",
              "              title=\"Convert this dataframe to an interactive table.\"\n",
              "              style=\"display:none;\">\n",
              "        \n",
              "  <svg xmlns=\"http://www.w3.org/2000/svg\" height=\"24px\"viewBox=\"0 0 24 24\"\n",
              "       width=\"24px\">\n",
              "    <path d=\"M0 0h24v24H0V0z\" fill=\"none\"/>\n",
              "    <path d=\"M18.56 5.44l.94 2.06.94-2.06 2.06-.94-2.06-.94-.94-2.06-.94 2.06-2.06.94zm-11 1L8.5 8.5l.94-2.06 2.06-.94-2.06-.94L8.5 2.5l-.94 2.06-2.06.94zm10 10l.94 2.06.94-2.06 2.06-.94-2.06-.94-.94-2.06-.94 2.06-2.06.94z\"/><path d=\"M17.41 7.96l-1.37-1.37c-.4-.4-.92-.59-1.43-.59-.52 0-1.04.2-1.43.59L10.3 9.45l-7.72 7.72c-.78.78-.78 2.05 0 2.83L4 21.41c.39.39.9.59 1.41.59.51 0 1.02-.2 1.41-.59l7.78-7.78 2.81-2.81c.8-.78.8-2.07 0-2.86zM5.41 20L4 18.59l7.72-7.72 1.47 1.35L5.41 20z\"/>\n",
              "  </svg>\n",
              "      </button>\n",
              "      \n",
              "  <style>\n",
              "    .colab-df-container {\n",
              "      display:flex;\n",
              "      flex-wrap:wrap;\n",
              "      gap: 12px;\n",
              "    }\n",
              "\n",
              "    .colab-df-convert {\n",
              "      background-color: #E8F0FE;\n",
              "      border: none;\n",
              "      border-radius: 50%;\n",
              "      cursor: pointer;\n",
              "      display: none;\n",
              "      fill: #1967D2;\n",
              "      height: 32px;\n",
              "      padding: 0 0 0 0;\n",
              "      width: 32px;\n",
              "    }\n",
              "\n",
              "    .colab-df-convert:hover {\n",
              "      background-color: #E2EBFA;\n",
              "      box-shadow: 0px 1px 2px rgba(60, 64, 67, 0.3), 0px 1px 3px 1px rgba(60, 64, 67, 0.15);\n",
              "      fill: #174EA6;\n",
              "    }\n",
              "\n",
              "    [theme=dark] .colab-df-convert {\n",
              "      background-color: #3B4455;\n",
              "      fill: #D2E3FC;\n",
              "    }\n",
              "\n",
              "    [theme=dark] .colab-df-convert:hover {\n",
              "      background-color: #434B5C;\n",
              "      box-shadow: 0px 1px 3px 1px rgba(0, 0, 0, 0.15);\n",
              "      filter: drop-shadow(0px 1px 2px rgba(0, 0, 0, 0.3));\n",
              "      fill: #FFFFFF;\n",
              "    }\n",
              "  </style>\n",
              "\n",
              "      <script>\n",
              "        const buttonEl =\n",
              "          document.querySelector('#df-32f81830-da50-4248-9258-7fa42de64558 button.colab-df-convert');\n",
              "        buttonEl.style.display =\n",
              "          google.colab.kernel.accessAllowed ? 'block' : 'none';\n",
              "\n",
              "        async function convertToInteractive(key) {\n",
              "          const element = document.querySelector('#df-32f81830-da50-4248-9258-7fa42de64558');\n",
              "          const dataTable =\n",
              "            await google.colab.kernel.invokeFunction('convertToInteractive',\n",
              "                                                     [key], {});\n",
              "          if (!dataTable) return;\n",
              "\n",
              "          const docLinkHtml = 'Like what you see? Visit the ' +\n",
              "            '<a target=\"_blank\" href=https://colab.research.google.com/notebooks/data_table.ipynb>data table notebook</a>'\n",
              "            + ' to learn more about interactive tables.';\n",
              "          element.innerHTML = '';\n",
              "          dataTable['output_type'] = 'display_data';\n",
              "          await google.colab.output.renderOutput(dataTable, element);\n",
              "          const docLink = document.createElement('div');\n",
              "          docLink.innerHTML = docLinkHtml;\n",
              "          element.appendChild(docLink);\n",
              "        }\n",
              "      </script>\n",
              "    </div>\n",
              "  </div>\n",
              "  "
            ]
          },
          "metadata": {},
          "execution_count": 10
        }
      ]
    },
    {
      "cell_type": "code",
      "source": [
        "df.info() # 경찰서명을 제외하고는 정수형"
      ],
      "metadata": {
        "colab": {
          "base_uri": "https://localhost:8080/"
        },
        "id": "c87jqNxAYXHw",
        "outputId": "552800fc-2203-498d-81ea-1fa27111d330"
      },
      "execution_count": 11,
      "outputs": [
        {
          "output_type": "stream",
          "name": "stdout",
          "text": [
            "<class 'pandas.core.frame.DataFrame'>\n",
            "Int64Index: 9898 entries, 0 to 9945\n",
            "Data columns (total 50 columns):\n",
            " #   Column                   Non-Null Count  Dtype         \n",
            "---  ------                   --------------  -----         \n",
            " 0   ACPT_YM                  9898 non-null   datetime64[ns]\n",
            " 1   PLCST_NM                 9898 non-null   object        \n",
            " 2   RPRT_CASCNT_WHOL         9898 non-null   int64         \n",
            " 3   RPRT_SEX_MALE            9898 non-null   int64         \n",
            " 4   RPRT_SEX_FMLE            9898 non-null   int64         \n",
            " 5   RPRT_SEX_UNKWN           9898 non-null   int64         \n",
            " 6   RPRT_SEX_ETC             9898 non-null   int64         \n",
            " 7   ACPT_EMERG_TYPE_EMERG    9898 non-null   int64         \n",
            " 8   ACPT_EMERG_TYPE_IMPRTNC  9898 non-null   int64         \n",
            " 9   ACPT_EMERG_TYPE_GNRL     9898 non-null   int64         \n",
            " 10  ACPT_EMERG_TYPE_CVAPP    9898 non-null   int64         \n",
            " 11  ACPT_EMERG_TYPE_ETC      9898 non-null   int64         \n",
            " 12  OCRN_DOTW_SNDD           9898 non-null   int64         \n",
            " 13  OCRN_DOTW_MON            9898 non-null   int64         \n",
            " 14  OCRN_DOTW_TUE            9898 non-null   int64         \n",
            " 15  OCRN_DOTW_WED            9898 non-null   int64         \n",
            " 16  OCRN_DOTW_THU            9898 non-null   int64         \n",
            " 17  OCRN_DOTW_FRI            9898 non-null   int64         \n",
            " 18  OCRN_DOTW_SAT            9898 non-null   int64         \n",
            " 19  OCRN_TIZN_00             9898 non-null   int64         \n",
            " 20  OCRN_TIZN_01             9898 non-null   int64         \n",
            " 21  OCRN_TIZN_02             9898 non-null   int64         \n",
            " 22  OCRN_TIZN_03             9898 non-null   int64         \n",
            " 23  OCRN_TIZN_04             9898 non-null   int64         \n",
            " 24  OCRN_TIZN_05             9898 non-null   int64         \n",
            " 25  OCRN_TIZN_06             9898 non-null   int64         \n",
            " 26  OCRN_TIZN_07             9898 non-null   int64         \n",
            " 27  OCRN_TIZN_08             9898 non-null   int64         \n",
            " 28  OCRN_TIZN_09             9898 non-null   int64         \n",
            " 29  OCRN_TIZN_10             9898 non-null   int64         \n",
            " 30  OCRN_TIZN_11             9898 non-null   int64         \n",
            " 31  OCRN_TIZN_12             9898 non-null   int64         \n",
            " 32  OCRN_TIZN_13             9898 non-null   int64         \n",
            " 33  OCRN_TIZN_14             9898 non-null   int64         \n",
            " 34  OCRN_TIZN_15             9898 non-null   int64         \n",
            " 35  OCRN_TIZN_16             9898 non-null   int64         \n",
            " 36  OCRN_TIZN_17             9898 non-null   int64         \n",
            " 37  OCRN_TIZN_18             9898 non-null   int64         \n",
            " 38  OCRN_TIZN_19             9898 non-null   int64         \n",
            " 39  OCRN_TIZN_20             9898 non-null   int64         \n",
            " 40  OCRN_TIZN_21             9898 non-null   int64         \n",
            " 41  OCRN_TIZN_22             9898 non-null   int64         \n",
            " 42  OCRN_TIZN_23             9898 non-null   int64         \n",
            " 43  CFINC_DSTVC              9898 non-null   float64       \n",
            " 44  CFINC_DTVC               9898 non-null   float64       \n",
            " 45  CFINC_MRDR               9898 non-null   float64       \n",
            " 46  CFINC_SVLNC              9898 non-null   float64       \n",
            " 47  CFINC_SUCD               9898 non-null   float64       \n",
            " 48  CFINC_INCVLC             9898 non-null   float64       \n",
            " 49  CFINC_ETC                9898 non-null   float64       \n",
            "dtypes: datetime64[ns](1), float64(7), int64(41), object(1)\n",
            "memory usage: 3.9+ MB\n"
          ]
        }
      ]
    },
    {
      "cell_type": "code",
      "source": [
        "df.describe()"
      ],
      "metadata": {
        "id": "iymSIgblJLuK",
        "outputId": "a78267ba-dacf-422a-a73d-2ad9bc1aaf83",
        "colab": {
          "base_uri": "https://localhost:8080/",
          "height": 393
        }
      },
      "execution_count": 12,
      "outputs": [
        {
          "output_type": "execute_result",
          "data": {
            "text/plain": [
              "       RPRT_CASCNT_WHOL  RPRT_SEX_MALE  RPRT_SEX_FMLE  RPRT_SEX_UNKWN  \\\n",
              "count       9898.000000    9898.000000    9898.000000     9898.000000   \n",
              "mean        5648.042029    2644.814609    1370.752172     1178.406446   \n",
              "std        34306.174987   11193.434015    5685.004710    11745.609518   \n",
              "min            1.000000       0.000000       0.000000        0.000000   \n",
              "25%          797.000000     429.000000     212.000000      158.000000   \n",
              "50%         3217.000000    1753.000000     908.500000      493.000000   \n",
              "75%         5579.750000    3060.000000    1611.000000      870.000000   \n",
              "max       749775.000000  214290.000000  106132.000000   424422.000000   \n",
              "\n",
              "        RPRT_SEX_ETC  ACPT_EMERG_TYPE_EMERG  ACPT_EMERG_TYPE_IMPRTNC  \\\n",
              "count    9898.000000            9898.000000              9898.000000   \n",
              "mean      391.214993              30.671550               778.910891   \n",
              "std      8283.407417              46.269736               889.379771   \n",
              "min         0.000000               0.000000                 0.000000   \n",
              "25%         0.000000               5.000000               179.000000   \n",
              "50%         0.000000              19.000000               574.000000   \n",
              "75%         1.000000              42.000000              1113.000000   \n",
              "max    225825.000000             910.000000             17171.000000   \n",
              "\n",
              "       ACPT_EMERG_TYPE_GNRL  ACPT_EMERG_TYPE_CVAPP  ACPT_EMERG_TYPE_ETC  ...  \\\n",
              "count           9898.000000            9898.000000          9898.000000  ...   \n",
              "mean            2070.778642             295.580824          2472.100121  ...   \n",
              "std             2098.271567             324.791845         32776.677460  ...   \n",
              "min                0.000000               0.000000             0.000000  ...   \n",
              "25%              406.000000              70.000000           114.000000  ...   \n",
              "50%             1762.000000             216.000000           448.000000  ...   \n",
              "75%             3169.000000             434.000000           772.000000  ...   \n",
              "max            40551.000000            6150.000000        689325.000000  ...   \n",
              "\n",
              "       OCRN_TIZN_21  OCRN_TIZN_22  OCRN_TIZN_23  CFINC_DSTVC  CFINC_DTVC  \\\n",
              "count   9898.000000   9898.000000   9898.000000  9898.000000  9898.00000   \n",
              "mean     310.415538    338.194989    309.581734    70.074055    16.09800   \n",
              "std     1743.267823   1736.642812   1538.530219    79.534573    21.91234   \n",
              "min        0.000000      0.000000      0.000000     0.000000     0.00000   \n",
              "25%       42.000000     43.000000     37.000000    12.000000     1.00000   \n",
              "50%      178.000000    196.000000    181.500000    51.000000     8.00000   \n",
              "75%      322.000000    361.000000    339.000000   107.000000    24.00000   \n",
              "max    36502.000000  39912.000000  32488.000000  1363.000000   296.00000   \n",
              "\n",
              "        CFINC_MRDR  CFINC_SVLNC   CFINC_SUCD  CFINC_INCVLC      CFINC_ETC  \n",
              "count  9898.000000  9898.000000  9898.000000   9898.000000    9898.000000  \n",
              "mean      0.167003     8.014245    30.231663    148.643463    5481.298242  \n",
              "std       0.580139    10.681085    33.002536    148.274493   34995.066155  \n",
              "min       0.000000     0.000000     0.000000      0.000000       1.000000  \n",
              "25%       0.000000     1.000000     7.000000     27.000000     759.000000  \n",
              "50%       0.000000     4.000000    24.000000    120.000000    3013.000000  \n",
              "75%       0.000000    12.000000    44.000000    229.000000    5253.250000  \n",
              "max      13.000000   139.000000   638.000000   2280.000000  928793.000000  \n",
              "\n",
              "[8 rows x 48 columns]"
            ],
            "text/html": [
              "\n",
              "  <div id=\"df-fbeb3b4f-ee70-4343-8218-7a6450b022ae\">\n",
              "    <div class=\"colab-df-container\">\n",
              "      <div>\n",
              "<style scoped>\n",
              "    .dataframe tbody tr th:only-of-type {\n",
              "        vertical-align: middle;\n",
              "    }\n",
              "\n",
              "    .dataframe tbody tr th {\n",
              "        vertical-align: top;\n",
              "    }\n",
              "\n",
              "    .dataframe thead th {\n",
              "        text-align: right;\n",
              "    }\n",
              "</style>\n",
              "<table border=\"1\" class=\"dataframe\">\n",
              "  <thead>\n",
              "    <tr style=\"text-align: right;\">\n",
              "      <th></th>\n",
              "      <th>RPRT_CASCNT_WHOL</th>\n",
              "      <th>RPRT_SEX_MALE</th>\n",
              "      <th>RPRT_SEX_FMLE</th>\n",
              "      <th>RPRT_SEX_UNKWN</th>\n",
              "      <th>RPRT_SEX_ETC</th>\n",
              "      <th>ACPT_EMERG_TYPE_EMERG</th>\n",
              "      <th>ACPT_EMERG_TYPE_IMPRTNC</th>\n",
              "      <th>ACPT_EMERG_TYPE_GNRL</th>\n",
              "      <th>ACPT_EMERG_TYPE_CVAPP</th>\n",
              "      <th>ACPT_EMERG_TYPE_ETC</th>\n",
              "      <th>...</th>\n",
              "      <th>OCRN_TIZN_21</th>\n",
              "      <th>OCRN_TIZN_22</th>\n",
              "      <th>OCRN_TIZN_23</th>\n",
              "      <th>CFINC_DSTVC</th>\n",
              "      <th>CFINC_DTVC</th>\n",
              "      <th>CFINC_MRDR</th>\n",
              "      <th>CFINC_SVLNC</th>\n",
              "      <th>CFINC_SUCD</th>\n",
              "      <th>CFINC_INCVLC</th>\n",
              "      <th>CFINC_ETC</th>\n",
              "    </tr>\n",
              "  </thead>\n",
              "  <tbody>\n",
              "    <tr>\n",
              "      <th>count</th>\n",
              "      <td>9898.000000</td>\n",
              "      <td>9898.000000</td>\n",
              "      <td>9898.000000</td>\n",
              "      <td>9898.000000</td>\n",
              "      <td>9898.000000</td>\n",
              "      <td>9898.000000</td>\n",
              "      <td>9898.000000</td>\n",
              "      <td>9898.000000</td>\n",
              "      <td>9898.000000</td>\n",
              "      <td>9898.000000</td>\n",
              "      <td>...</td>\n",
              "      <td>9898.000000</td>\n",
              "      <td>9898.000000</td>\n",
              "      <td>9898.000000</td>\n",
              "      <td>9898.000000</td>\n",
              "      <td>9898.00000</td>\n",
              "      <td>9898.000000</td>\n",
              "      <td>9898.000000</td>\n",
              "      <td>9898.000000</td>\n",
              "      <td>9898.000000</td>\n",
              "      <td>9898.000000</td>\n",
              "    </tr>\n",
              "    <tr>\n",
              "      <th>mean</th>\n",
              "      <td>5648.042029</td>\n",
              "      <td>2644.814609</td>\n",
              "      <td>1370.752172</td>\n",
              "      <td>1178.406446</td>\n",
              "      <td>391.214993</td>\n",
              "      <td>30.671550</td>\n",
              "      <td>778.910891</td>\n",
              "      <td>2070.778642</td>\n",
              "      <td>295.580824</td>\n",
              "      <td>2472.100121</td>\n",
              "      <td>...</td>\n",
              "      <td>310.415538</td>\n",
              "      <td>338.194989</td>\n",
              "      <td>309.581734</td>\n",
              "      <td>70.074055</td>\n",
              "      <td>16.09800</td>\n",
              "      <td>0.167003</td>\n",
              "      <td>8.014245</td>\n",
              "      <td>30.231663</td>\n",
              "      <td>148.643463</td>\n",
              "      <td>5481.298242</td>\n",
              "    </tr>\n",
              "    <tr>\n",
              "      <th>std</th>\n",
              "      <td>34306.174987</td>\n",
              "      <td>11193.434015</td>\n",
              "      <td>5685.004710</td>\n",
              "      <td>11745.609518</td>\n",
              "      <td>8283.407417</td>\n",
              "      <td>46.269736</td>\n",
              "      <td>889.379771</td>\n",
              "      <td>2098.271567</td>\n",
              "      <td>324.791845</td>\n",
              "      <td>32776.677460</td>\n",
              "      <td>...</td>\n",
              "      <td>1743.267823</td>\n",
              "      <td>1736.642812</td>\n",
              "      <td>1538.530219</td>\n",
              "      <td>79.534573</td>\n",
              "      <td>21.91234</td>\n",
              "      <td>0.580139</td>\n",
              "      <td>10.681085</td>\n",
              "      <td>33.002536</td>\n",
              "      <td>148.274493</td>\n",
              "      <td>34995.066155</td>\n",
              "    </tr>\n",
              "    <tr>\n",
              "      <th>min</th>\n",
              "      <td>1.000000</td>\n",
              "      <td>0.000000</td>\n",
              "      <td>0.000000</td>\n",
              "      <td>0.000000</td>\n",
              "      <td>0.000000</td>\n",
              "      <td>0.000000</td>\n",
              "      <td>0.000000</td>\n",
              "      <td>0.000000</td>\n",
              "      <td>0.000000</td>\n",
              "      <td>0.000000</td>\n",
              "      <td>...</td>\n",
              "      <td>0.000000</td>\n",
              "      <td>0.000000</td>\n",
              "      <td>0.000000</td>\n",
              "      <td>0.000000</td>\n",
              "      <td>0.00000</td>\n",
              "      <td>0.000000</td>\n",
              "      <td>0.000000</td>\n",
              "      <td>0.000000</td>\n",
              "      <td>0.000000</td>\n",
              "      <td>1.000000</td>\n",
              "    </tr>\n",
              "    <tr>\n",
              "      <th>25%</th>\n",
              "      <td>797.000000</td>\n",
              "      <td>429.000000</td>\n",
              "      <td>212.000000</td>\n",
              "      <td>158.000000</td>\n",
              "      <td>0.000000</td>\n",
              "      <td>5.000000</td>\n",
              "      <td>179.000000</td>\n",
              "      <td>406.000000</td>\n",
              "      <td>70.000000</td>\n",
              "      <td>114.000000</td>\n",
              "      <td>...</td>\n",
              "      <td>42.000000</td>\n",
              "      <td>43.000000</td>\n",
              "      <td>37.000000</td>\n",
              "      <td>12.000000</td>\n",
              "      <td>1.00000</td>\n",
              "      <td>0.000000</td>\n",
              "      <td>1.000000</td>\n",
              "      <td>7.000000</td>\n",
              "      <td>27.000000</td>\n",
              "      <td>759.000000</td>\n",
              "    </tr>\n",
              "    <tr>\n",
              "      <th>50%</th>\n",
              "      <td>3217.000000</td>\n",
              "      <td>1753.000000</td>\n",
              "      <td>908.500000</td>\n",
              "      <td>493.000000</td>\n",
              "      <td>0.000000</td>\n",
              "      <td>19.000000</td>\n",
              "      <td>574.000000</td>\n",
              "      <td>1762.000000</td>\n",
              "      <td>216.000000</td>\n",
              "      <td>448.000000</td>\n",
              "      <td>...</td>\n",
              "      <td>178.000000</td>\n",
              "      <td>196.000000</td>\n",
              "      <td>181.500000</td>\n",
              "      <td>51.000000</td>\n",
              "      <td>8.00000</td>\n",
              "      <td>0.000000</td>\n",
              "      <td>4.000000</td>\n",
              "      <td>24.000000</td>\n",
              "      <td>120.000000</td>\n",
              "      <td>3013.000000</td>\n",
              "    </tr>\n",
              "    <tr>\n",
              "      <th>75%</th>\n",
              "      <td>5579.750000</td>\n",
              "      <td>3060.000000</td>\n",
              "      <td>1611.000000</td>\n",
              "      <td>870.000000</td>\n",
              "      <td>1.000000</td>\n",
              "      <td>42.000000</td>\n",
              "      <td>1113.000000</td>\n",
              "      <td>3169.000000</td>\n",
              "      <td>434.000000</td>\n",
              "      <td>772.000000</td>\n",
              "      <td>...</td>\n",
              "      <td>322.000000</td>\n",
              "      <td>361.000000</td>\n",
              "      <td>339.000000</td>\n",
              "      <td>107.000000</td>\n",
              "      <td>24.00000</td>\n",
              "      <td>0.000000</td>\n",
              "      <td>12.000000</td>\n",
              "      <td>44.000000</td>\n",
              "      <td>229.000000</td>\n",
              "      <td>5253.250000</td>\n",
              "    </tr>\n",
              "    <tr>\n",
              "      <th>max</th>\n",
              "      <td>749775.000000</td>\n",
              "      <td>214290.000000</td>\n",
              "      <td>106132.000000</td>\n",
              "      <td>424422.000000</td>\n",
              "      <td>225825.000000</td>\n",
              "      <td>910.000000</td>\n",
              "      <td>17171.000000</td>\n",
              "      <td>40551.000000</td>\n",
              "      <td>6150.000000</td>\n",
              "      <td>689325.000000</td>\n",
              "      <td>...</td>\n",
              "      <td>36502.000000</td>\n",
              "      <td>39912.000000</td>\n",
              "      <td>32488.000000</td>\n",
              "      <td>1363.000000</td>\n",
              "      <td>296.00000</td>\n",
              "      <td>13.000000</td>\n",
              "      <td>139.000000</td>\n",
              "      <td>638.000000</td>\n",
              "      <td>2280.000000</td>\n",
              "      <td>928793.000000</td>\n",
              "    </tr>\n",
              "  </tbody>\n",
              "</table>\n",
              "<p>8 rows × 48 columns</p>\n",
              "</div>\n",
              "      <button class=\"colab-df-convert\" onclick=\"convertToInteractive('df-fbeb3b4f-ee70-4343-8218-7a6450b022ae')\"\n",
              "              title=\"Convert this dataframe to an interactive table.\"\n",
              "              style=\"display:none;\">\n",
              "        \n",
              "  <svg xmlns=\"http://www.w3.org/2000/svg\" height=\"24px\"viewBox=\"0 0 24 24\"\n",
              "       width=\"24px\">\n",
              "    <path d=\"M0 0h24v24H0V0z\" fill=\"none\"/>\n",
              "    <path d=\"M18.56 5.44l.94 2.06.94-2.06 2.06-.94-2.06-.94-.94-2.06-.94 2.06-2.06.94zm-11 1L8.5 8.5l.94-2.06 2.06-.94-2.06-.94L8.5 2.5l-.94 2.06-2.06.94zm10 10l.94 2.06.94-2.06 2.06-.94-2.06-.94-.94-2.06-.94 2.06-2.06.94z\"/><path d=\"M17.41 7.96l-1.37-1.37c-.4-.4-.92-.59-1.43-.59-.52 0-1.04.2-1.43.59L10.3 9.45l-7.72 7.72c-.78.78-.78 2.05 0 2.83L4 21.41c.39.39.9.59 1.41.59.51 0 1.02-.2 1.41-.59l7.78-7.78 2.81-2.81c.8-.78.8-2.07 0-2.86zM5.41 20L4 18.59l7.72-7.72 1.47 1.35L5.41 20z\"/>\n",
              "  </svg>\n",
              "      </button>\n",
              "      \n",
              "  <style>\n",
              "    .colab-df-container {\n",
              "      display:flex;\n",
              "      flex-wrap:wrap;\n",
              "      gap: 12px;\n",
              "    }\n",
              "\n",
              "    .colab-df-convert {\n",
              "      background-color: #E8F0FE;\n",
              "      border: none;\n",
              "      border-radius: 50%;\n",
              "      cursor: pointer;\n",
              "      display: none;\n",
              "      fill: #1967D2;\n",
              "      height: 32px;\n",
              "      padding: 0 0 0 0;\n",
              "      width: 32px;\n",
              "    }\n",
              "\n",
              "    .colab-df-convert:hover {\n",
              "      background-color: #E2EBFA;\n",
              "      box-shadow: 0px 1px 2px rgba(60, 64, 67, 0.3), 0px 1px 3px 1px rgba(60, 64, 67, 0.15);\n",
              "      fill: #174EA6;\n",
              "    }\n",
              "\n",
              "    [theme=dark] .colab-df-convert {\n",
              "      background-color: #3B4455;\n",
              "      fill: #D2E3FC;\n",
              "    }\n",
              "\n",
              "    [theme=dark] .colab-df-convert:hover {\n",
              "      background-color: #434B5C;\n",
              "      box-shadow: 0px 1px 3px 1px rgba(0, 0, 0, 0.15);\n",
              "      filter: drop-shadow(0px 1px 2px rgba(0, 0, 0, 0.3));\n",
              "      fill: #FFFFFF;\n",
              "    }\n",
              "  </style>\n",
              "\n",
              "      <script>\n",
              "        const buttonEl =\n",
              "          document.querySelector('#df-fbeb3b4f-ee70-4343-8218-7a6450b022ae button.colab-df-convert');\n",
              "        buttonEl.style.display =\n",
              "          google.colab.kernel.accessAllowed ? 'block' : 'none';\n",
              "\n",
              "        async function convertToInteractive(key) {\n",
              "          const element = document.querySelector('#df-fbeb3b4f-ee70-4343-8218-7a6450b022ae');\n",
              "          const dataTable =\n",
              "            await google.colab.kernel.invokeFunction('convertToInteractive',\n",
              "                                                     [key], {});\n",
              "          if (!dataTable) return;\n",
              "\n",
              "          const docLinkHtml = 'Like what you see? Visit the ' +\n",
              "            '<a target=\"_blank\" href=https://colab.research.google.com/notebooks/data_table.ipynb>data table notebook</a>'\n",
              "            + ' to learn more about interactive tables.';\n",
              "          element.innerHTML = '';\n",
              "          dataTable['output_type'] = 'display_data';\n",
              "          await google.colab.output.renderOutput(dataTable, element);\n",
              "          const docLink = document.createElement('div');\n",
              "          docLink.innerHTML = docLinkHtml;\n",
              "          element.appendChild(docLink);\n",
              "        }\n",
              "      </script>\n",
              "    </div>\n",
              "  </div>\n",
              "  "
            ]
          },
          "metadata": {},
          "execution_count": 12
        }
      ]
    },
    {
      "cell_type": "code",
      "source": [
        "# 묘사 결과 최댓값이 이상치 -> 제거\n",
        "df.drop(index = df[df['PLCST_NM'] == 'ETC'].index, axis = 0, inplace = True)"
      ],
      "metadata": {
        "id": "FW-MPVEoJULy"
      },
      "execution_count": 13,
      "outputs": []
    },
    {
      "cell_type": "code",
      "source": [
        "df.describe()"
      ],
      "metadata": {
        "id": "UxIfTbTgJgyS",
        "outputId": "cb810ddf-5023-4c27-b9e9-6b4a3c313a2f",
        "colab": {
          "base_uri": "https://localhost:8080/",
          "height": 393
        }
      },
      "execution_count": 14,
      "outputs": [
        {
          "output_type": "execute_result",
          "data": {
            "text/plain": [
              "       RPRT_CASCNT_WHOL  RPRT_SEX_MALE  RPRT_SEX_FMLE  RPRT_SEX_UNKWN  \\\n",
              "count       9862.000000    9862.000000    9862.000000     9862.000000   \n",
              "mean        3598.984892    1979.027378    1032.232407      587.010951   \n",
              "std         2980.152462    1689.791985     870.065741      499.988814   \n",
              "min            1.000000       0.000000       0.000000        0.000000   \n",
              "25%          792.000000     427.250000     211.000000      157.000000   \n",
              "50%         3195.500000    1741.500000     903.000000      491.000000   \n",
              "75%         5535.750000    3042.750000    1603.000000      865.750000   \n",
              "max        14873.000000   11681.000000    4552.000000     5351.000000   \n",
              "\n",
              "       RPRT_SEX_ETC  ACPT_EMERG_TYPE_EMERG  ACPT_EMERG_TYPE_IMPRTNC  \\\n",
              "count   9862.000000            9862.000000              9862.000000   \n",
              "mean       0.631515              29.636788               756.719631   \n",
              "std        1.315426              38.789493               705.059965   \n",
              "min        0.000000               0.000000                 0.000000   \n",
              "25%        0.000000               5.000000               179.000000   \n",
              "50%        0.000000              18.000000               572.000000   \n",
              "75%        1.000000              41.000000              1104.750000   \n",
              "max       16.000000             598.000000              6858.000000   \n",
              "\n",
              "       ACPT_EMERG_TYPE_GNRL  ACPT_EMERG_TYPE_CVAPP  ACPT_EMERG_TYPE_ETC  ...  \\\n",
              "count           9862.000000            9862.000000          9862.000000  ...   \n",
              "mean            2020.241939             287.543805           504.842730  ...   \n",
              "std             1734.782136             263.785835           440.307007  ...   \n",
              "min                0.000000               0.000000             0.000000  ...   \n",
              "25%              404.250000              70.000000           114.000000  ...   \n",
              "50%             1758.000000             215.000000           446.000000  ...   \n",
              "75%             3162.750000             432.000000           768.000000  ...   \n",
              "max             9183.000000            1478.000000          5650.000000  ...   \n",
              "\n",
              "       OCRN_TIZN_21  OCRN_TIZN_22  OCRN_TIZN_23  CFINC_DSTVC   CFINC_DTVC  \\\n",
              "count   9862.000000   9862.000000   9862.000000  9862.000000  9862.000000   \n",
              "mean     206.420097    235.363314    218.043095    67.928919    15.709694   \n",
              "std      178.353725    216.810369    199.784414    66.329119    20.302234   \n",
              "min        0.000000      0.000000      0.000000     0.000000     0.000000   \n",
              "25%       42.000000     43.000000     37.000000    12.000000     1.000000   \n",
              "50%      177.000000    195.000000    180.000000    51.000000     8.000000   \n",
              "75%      320.000000    359.000000    337.000000   106.000000    24.000000   \n",
              "max      965.000000   1355.000000   1149.000000   505.000000   179.000000   \n",
              "\n",
              "        CFINC_MRDR  CFINC_SVLNC   CFINC_SUCD  CFINC_INCVLC     CFINC_ETC  \n",
              "count  9862.000000  9862.000000  9862.000000   9862.000000   9862.000000  \n",
              "mean      0.159704     7.837964    29.363212    145.412594   3400.508213  \n",
              "std       0.560639    10.052418    26.768784    133.851795   2847.960792  \n",
              "min       0.000000     0.000000     0.000000      0.000000      1.000000  \n",
              "25%       0.000000     1.000000     7.000000     26.250000    755.250000  \n",
              "50%       0.000000     4.000000    24.000000    119.500000   2991.000000  \n",
              "75%       0.000000    11.000000    43.750000    228.000000   5218.750000  \n",
              "max      13.000000    92.000000   295.000000    971.000000  19442.000000  \n",
              "\n",
              "[8 rows x 48 columns]"
            ],
            "text/html": [
              "\n",
              "  <div id=\"df-9caef8af-3e6d-4f65-a923-3f56b972f369\">\n",
              "    <div class=\"colab-df-container\">\n",
              "      <div>\n",
              "<style scoped>\n",
              "    .dataframe tbody tr th:only-of-type {\n",
              "        vertical-align: middle;\n",
              "    }\n",
              "\n",
              "    .dataframe tbody tr th {\n",
              "        vertical-align: top;\n",
              "    }\n",
              "\n",
              "    .dataframe thead th {\n",
              "        text-align: right;\n",
              "    }\n",
              "</style>\n",
              "<table border=\"1\" class=\"dataframe\">\n",
              "  <thead>\n",
              "    <tr style=\"text-align: right;\">\n",
              "      <th></th>\n",
              "      <th>RPRT_CASCNT_WHOL</th>\n",
              "      <th>RPRT_SEX_MALE</th>\n",
              "      <th>RPRT_SEX_FMLE</th>\n",
              "      <th>RPRT_SEX_UNKWN</th>\n",
              "      <th>RPRT_SEX_ETC</th>\n",
              "      <th>ACPT_EMERG_TYPE_EMERG</th>\n",
              "      <th>ACPT_EMERG_TYPE_IMPRTNC</th>\n",
              "      <th>ACPT_EMERG_TYPE_GNRL</th>\n",
              "      <th>ACPT_EMERG_TYPE_CVAPP</th>\n",
              "      <th>ACPT_EMERG_TYPE_ETC</th>\n",
              "      <th>...</th>\n",
              "      <th>OCRN_TIZN_21</th>\n",
              "      <th>OCRN_TIZN_22</th>\n",
              "      <th>OCRN_TIZN_23</th>\n",
              "      <th>CFINC_DSTVC</th>\n",
              "      <th>CFINC_DTVC</th>\n",
              "      <th>CFINC_MRDR</th>\n",
              "      <th>CFINC_SVLNC</th>\n",
              "      <th>CFINC_SUCD</th>\n",
              "      <th>CFINC_INCVLC</th>\n",
              "      <th>CFINC_ETC</th>\n",
              "    </tr>\n",
              "  </thead>\n",
              "  <tbody>\n",
              "    <tr>\n",
              "      <th>count</th>\n",
              "      <td>9862.000000</td>\n",
              "      <td>9862.000000</td>\n",
              "      <td>9862.000000</td>\n",
              "      <td>9862.000000</td>\n",
              "      <td>9862.000000</td>\n",
              "      <td>9862.000000</td>\n",
              "      <td>9862.000000</td>\n",
              "      <td>9862.000000</td>\n",
              "      <td>9862.000000</td>\n",
              "      <td>9862.000000</td>\n",
              "      <td>...</td>\n",
              "      <td>9862.000000</td>\n",
              "      <td>9862.000000</td>\n",
              "      <td>9862.000000</td>\n",
              "      <td>9862.000000</td>\n",
              "      <td>9862.000000</td>\n",
              "      <td>9862.000000</td>\n",
              "      <td>9862.000000</td>\n",
              "      <td>9862.000000</td>\n",
              "      <td>9862.000000</td>\n",
              "      <td>9862.000000</td>\n",
              "    </tr>\n",
              "    <tr>\n",
              "      <th>mean</th>\n",
              "      <td>3598.984892</td>\n",
              "      <td>1979.027378</td>\n",
              "      <td>1032.232407</td>\n",
              "      <td>587.010951</td>\n",
              "      <td>0.631515</td>\n",
              "      <td>29.636788</td>\n",
              "      <td>756.719631</td>\n",
              "      <td>2020.241939</td>\n",
              "      <td>287.543805</td>\n",
              "      <td>504.842730</td>\n",
              "      <td>...</td>\n",
              "      <td>206.420097</td>\n",
              "      <td>235.363314</td>\n",
              "      <td>218.043095</td>\n",
              "      <td>67.928919</td>\n",
              "      <td>15.709694</td>\n",
              "      <td>0.159704</td>\n",
              "      <td>7.837964</td>\n",
              "      <td>29.363212</td>\n",
              "      <td>145.412594</td>\n",
              "      <td>3400.508213</td>\n",
              "    </tr>\n",
              "    <tr>\n",
              "      <th>std</th>\n",
              "      <td>2980.152462</td>\n",
              "      <td>1689.791985</td>\n",
              "      <td>870.065741</td>\n",
              "      <td>499.988814</td>\n",
              "      <td>1.315426</td>\n",
              "      <td>38.789493</td>\n",
              "      <td>705.059965</td>\n",
              "      <td>1734.782136</td>\n",
              "      <td>263.785835</td>\n",
              "      <td>440.307007</td>\n",
              "      <td>...</td>\n",
              "      <td>178.353725</td>\n",
              "      <td>216.810369</td>\n",
              "      <td>199.784414</td>\n",
              "      <td>66.329119</td>\n",
              "      <td>20.302234</td>\n",
              "      <td>0.560639</td>\n",
              "      <td>10.052418</td>\n",
              "      <td>26.768784</td>\n",
              "      <td>133.851795</td>\n",
              "      <td>2847.960792</td>\n",
              "    </tr>\n",
              "    <tr>\n",
              "      <th>min</th>\n",
              "      <td>1.000000</td>\n",
              "      <td>0.000000</td>\n",
              "      <td>0.000000</td>\n",
              "      <td>0.000000</td>\n",
              "      <td>0.000000</td>\n",
              "      <td>0.000000</td>\n",
              "      <td>0.000000</td>\n",
              "      <td>0.000000</td>\n",
              "      <td>0.000000</td>\n",
              "      <td>0.000000</td>\n",
              "      <td>...</td>\n",
              "      <td>0.000000</td>\n",
              "      <td>0.000000</td>\n",
              "      <td>0.000000</td>\n",
              "      <td>0.000000</td>\n",
              "      <td>0.000000</td>\n",
              "      <td>0.000000</td>\n",
              "      <td>0.000000</td>\n",
              "      <td>0.000000</td>\n",
              "      <td>0.000000</td>\n",
              "      <td>1.000000</td>\n",
              "    </tr>\n",
              "    <tr>\n",
              "      <th>25%</th>\n",
              "      <td>792.000000</td>\n",
              "      <td>427.250000</td>\n",
              "      <td>211.000000</td>\n",
              "      <td>157.000000</td>\n",
              "      <td>0.000000</td>\n",
              "      <td>5.000000</td>\n",
              "      <td>179.000000</td>\n",
              "      <td>404.250000</td>\n",
              "      <td>70.000000</td>\n",
              "      <td>114.000000</td>\n",
              "      <td>...</td>\n",
              "      <td>42.000000</td>\n",
              "      <td>43.000000</td>\n",
              "      <td>37.000000</td>\n",
              "      <td>12.000000</td>\n",
              "      <td>1.000000</td>\n",
              "      <td>0.000000</td>\n",
              "      <td>1.000000</td>\n",
              "      <td>7.000000</td>\n",
              "      <td>26.250000</td>\n",
              "      <td>755.250000</td>\n",
              "    </tr>\n",
              "    <tr>\n",
              "      <th>50%</th>\n",
              "      <td>3195.500000</td>\n",
              "      <td>1741.500000</td>\n",
              "      <td>903.000000</td>\n",
              "      <td>491.000000</td>\n",
              "      <td>0.000000</td>\n",
              "      <td>18.000000</td>\n",
              "      <td>572.000000</td>\n",
              "      <td>1758.000000</td>\n",
              "      <td>215.000000</td>\n",
              "      <td>446.000000</td>\n",
              "      <td>...</td>\n",
              "      <td>177.000000</td>\n",
              "      <td>195.000000</td>\n",
              "      <td>180.000000</td>\n",
              "      <td>51.000000</td>\n",
              "      <td>8.000000</td>\n",
              "      <td>0.000000</td>\n",
              "      <td>4.000000</td>\n",
              "      <td>24.000000</td>\n",
              "      <td>119.500000</td>\n",
              "      <td>2991.000000</td>\n",
              "    </tr>\n",
              "    <tr>\n",
              "      <th>75%</th>\n",
              "      <td>5535.750000</td>\n",
              "      <td>3042.750000</td>\n",
              "      <td>1603.000000</td>\n",
              "      <td>865.750000</td>\n",
              "      <td>1.000000</td>\n",
              "      <td>41.000000</td>\n",
              "      <td>1104.750000</td>\n",
              "      <td>3162.750000</td>\n",
              "      <td>432.000000</td>\n",
              "      <td>768.000000</td>\n",
              "      <td>...</td>\n",
              "      <td>320.000000</td>\n",
              "      <td>359.000000</td>\n",
              "      <td>337.000000</td>\n",
              "      <td>106.000000</td>\n",
              "      <td>24.000000</td>\n",
              "      <td>0.000000</td>\n",
              "      <td>11.000000</td>\n",
              "      <td>43.750000</td>\n",
              "      <td>228.000000</td>\n",
              "      <td>5218.750000</td>\n",
              "    </tr>\n",
              "    <tr>\n",
              "      <th>max</th>\n",
              "      <td>14873.000000</td>\n",
              "      <td>11681.000000</td>\n",
              "      <td>4552.000000</td>\n",
              "      <td>5351.000000</td>\n",
              "      <td>16.000000</td>\n",
              "      <td>598.000000</td>\n",
              "      <td>6858.000000</td>\n",
              "      <td>9183.000000</td>\n",
              "      <td>1478.000000</td>\n",
              "      <td>5650.000000</td>\n",
              "      <td>...</td>\n",
              "      <td>965.000000</td>\n",
              "      <td>1355.000000</td>\n",
              "      <td>1149.000000</td>\n",
              "      <td>505.000000</td>\n",
              "      <td>179.000000</td>\n",
              "      <td>13.000000</td>\n",
              "      <td>92.000000</td>\n",
              "      <td>295.000000</td>\n",
              "      <td>971.000000</td>\n",
              "      <td>19442.000000</td>\n",
              "    </tr>\n",
              "  </tbody>\n",
              "</table>\n",
              "<p>8 rows × 48 columns</p>\n",
              "</div>\n",
              "      <button class=\"colab-df-convert\" onclick=\"convertToInteractive('df-9caef8af-3e6d-4f65-a923-3f56b972f369')\"\n",
              "              title=\"Convert this dataframe to an interactive table.\"\n",
              "              style=\"display:none;\">\n",
              "        \n",
              "  <svg xmlns=\"http://www.w3.org/2000/svg\" height=\"24px\"viewBox=\"0 0 24 24\"\n",
              "       width=\"24px\">\n",
              "    <path d=\"M0 0h24v24H0V0z\" fill=\"none\"/>\n",
              "    <path d=\"M18.56 5.44l.94 2.06.94-2.06 2.06-.94-2.06-.94-.94-2.06-.94 2.06-2.06.94zm-11 1L8.5 8.5l.94-2.06 2.06-.94-2.06-.94L8.5 2.5l-.94 2.06-2.06.94zm10 10l.94 2.06.94-2.06 2.06-.94-2.06-.94-.94-2.06-.94 2.06-2.06.94z\"/><path d=\"M17.41 7.96l-1.37-1.37c-.4-.4-.92-.59-1.43-.59-.52 0-1.04.2-1.43.59L10.3 9.45l-7.72 7.72c-.78.78-.78 2.05 0 2.83L4 21.41c.39.39.9.59 1.41.59.51 0 1.02-.2 1.41-.59l7.78-7.78 2.81-2.81c.8-.78.8-2.07 0-2.86zM5.41 20L4 18.59l7.72-7.72 1.47 1.35L5.41 20z\"/>\n",
              "  </svg>\n",
              "      </button>\n",
              "      \n",
              "  <style>\n",
              "    .colab-df-container {\n",
              "      display:flex;\n",
              "      flex-wrap:wrap;\n",
              "      gap: 12px;\n",
              "    }\n",
              "\n",
              "    .colab-df-convert {\n",
              "      background-color: #E8F0FE;\n",
              "      border: none;\n",
              "      border-radius: 50%;\n",
              "      cursor: pointer;\n",
              "      display: none;\n",
              "      fill: #1967D2;\n",
              "      height: 32px;\n",
              "      padding: 0 0 0 0;\n",
              "      width: 32px;\n",
              "    }\n",
              "\n",
              "    .colab-df-convert:hover {\n",
              "      background-color: #E2EBFA;\n",
              "      box-shadow: 0px 1px 2px rgba(60, 64, 67, 0.3), 0px 1px 3px 1px rgba(60, 64, 67, 0.15);\n",
              "      fill: #174EA6;\n",
              "    }\n",
              "\n",
              "    [theme=dark] .colab-df-convert {\n",
              "      background-color: #3B4455;\n",
              "      fill: #D2E3FC;\n",
              "    }\n",
              "\n",
              "    [theme=dark] .colab-df-convert:hover {\n",
              "      background-color: #434B5C;\n",
              "      box-shadow: 0px 1px 3px 1px rgba(0, 0, 0, 0.15);\n",
              "      filter: drop-shadow(0px 1px 2px rgba(0, 0, 0, 0.3));\n",
              "      fill: #FFFFFF;\n",
              "    }\n",
              "  </style>\n",
              "\n",
              "      <script>\n",
              "        const buttonEl =\n",
              "          document.querySelector('#df-9caef8af-3e6d-4f65-a923-3f56b972f369 button.colab-df-convert');\n",
              "        buttonEl.style.display =\n",
              "          google.colab.kernel.accessAllowed ? 'block' : 'none';\n",
              "\n",
              "        async function convertToInteractive(key) {\n",
              "          const element = document.querySelector('#df-9caef8af-3e6d-4f65-a923-3f56b972f369');\n",
              "          const dataTable =\n",
              "            await google.colab.kernel.invokeFunction('convertToInteractive',\n",
              "                                                     [key], {});\n",
              "          if (!dataTable) return;\n",
              "\n",
              "          const docLinkHtml = 'Like what you see? Visit the ' +\n",
              "            '<a target=\"_blank\" href=https://colab.research.google.com/notebooks/data_table.ipynb>data table notebook</a>'\n",
              "            + ' to learn more about interactive tables.';\n",
              "          element.innerHTML = '';\n",
              "          dataTable['output_type'] = 'display_data';\n",
              "          await google.colab.output.renderOutput(dataTable, element);\n",
              "          const docLink = document.createElement('div');\n",
              "          docLink.innerHTML = docLinkHtml;\n",
              "          element.appendChild(docLink);\n",
              "        }\n",
              "      </script>\n",
              "    </div>\n",
              "  </div>\n",
              "  "
            ]
          },
          "metadata": {},
          "execution_count": 14
        }
      ]
    },
    {
      "cell_type": "code",
      "source": [
        "# 연도별, 달별 데이터 활용 시 사용하기 위해\n",
        "df['Year'] = df['ACPT_YM'].dt.year \n",
        "df['Month'] = df['ACPT_YM'].dt.month "
      ],
      "metadata": {
        "id": "-_BMTI0FeV-v"
      },
      "execution_count": 15,
      "outputs": []
    },
    {
      "cell_type": "code",
      "source": [
        "df = df.sort_values(by = [\"ACPT_YM\", \"PLCST_NM\"])\n",
        "df = df.reset_index(drop = True)"
      ],
      "metadata": {
        "id": "6iYb89ucLNNT"
      },
      "execution_count": 16,
      "outputs": []
    },
    {
      "cell_type": "code",
      "source": [
        "list(df.columns)"
      ],
      "metadata": {
        "id": "LjtHZU04PjFR",
        "outputId": "5e0625fb-90b6-4592-caba-bbd61ef9c763",
        "colab": {
          "base_uri": "https://localhost:8080/"
        }
      },
      "execution_count": 28,
      "outputs": [
        {
          "output_type": "execute_result",
          "data": {
            "text/plain": [
              "['ACPT_YM',\n",
              " 'PLCST_NM',\n",
              " 'RPRT_CASCNT_WHOL',\n",
              " 'RPRT_SEX_MALE',\n",
              " 'RPRT_SEX_FMLE',\n",
              " 'RPRT_SEX_UNKWN',\n",
              " 'RPRT_SEX_ETC',\n",
              " 'ACPT_EMERG_TYPE_EMERG',\n",
              " 'ACPT_EMERG_TYPE_IMPRTNC',\n",
              " 'ACPT_EMERG_TYPE_GNRL',\n",
              " 'ACPT_EMERG_TYPE_CVAPP',\n",
              " 'ACPT_EMERG_TYPE_ETC',\n",
              " 'OCRN_DOTW_SNDD',\n",
              " 'OCRN_DOTW_MON',\n",
              " 'OCRN_DOTW_TUE',\n",
              " 'OCRN_DOTW_WED',\n",
              " 'OCRN_DOTW_THU',\n",
              " 'OCRN_DOTW_FRI',\n",
              " 'OCRN_DOTW_SAT',\n",
              " 'OCRN_TIZN_00',\n",
              " 'OCRN_TIZN_01',\n",
              " 'OCRN_TIZN_02',\n",
              " 'OCRN_TIZN_03',\n",
              " 'OCRN_TIZN_04',\n",
              " 'OCRN_TIZN_05',\n",
              " 'OCRN_TIZN_06',\n",
              " 'OCRN_TIZN_07',\n",
              " 'OCRN_TIZN_08',\n",
              " 'OCRN_TIZN_09',\n",
              " 'OCRN_TIZN_10',\n",
              " 'OCRN_TIZN_11',\n",
              " 'OCRN_TIZN_12',\n",
              " 'OCRN_TIZN_13',\n",
              " 'OCRN_TIZN_14',\n",
              " 'OCRN_TIZN_15',\n",
              " 'OCRN_TIZN_16',\n",
              " 'OCRN_TIZN_17',\n",
              " 'OCRN_TIZN_18',\n",
              " 'OCRN_TIZN_19',\n",
              " 'OCRN_TIZN_20',\n",
              " 'OCRN_TIZN_21',\n",
              " 'OCRN_TIZN_22',\n",
              " 'OCRN_TIZN_23',\n",
              " 'CFINC_DSTVC',\n",
              " 'CFINC_DTVC',\n",
              " 'CFINC_MRDR',\n",
              " 'CFINC_SVLNC',\n",
              " 'CFINC_SUCD',\n",
              " 'CFINC_INCVLC',\n",
              " 'CFINC_ETC',\n",
              " 'Year',\n",
              " 'Month']"
            ]
          },
          "metadata": {},
          "execution_count": 28
        }
      ]
    },
    {
      "cell_type": "code",
      "source": [
        "# 전체 데이터셋\n",
        "df.to_csv('/content/drive/MyDrive/데이터마이닝/total_dataset_report_112.csv', encoding = 'cp949')"
      ],
      "metadata": {
        "id": "xTphNaS8Kp1K"
      },
      "execution_count": 17,
      "outputs": []
    },
    {
      "cell_type": "code",
      "source": [
        "# 전체 데이터 연도별 분리\n",
        "df_19 = df[df['Year'] == 2019]\n",
        "df_20 = df[df['Year'] == 2020]\n",
        "df_21 = df[df['Year'] == 2021]\n",
        "\n",
        "# 반복문 활용 시\n",
        "div_year = [df_19, df_20, df_21]"
      ],
      "metadata": {
        "id": "JunL-gHueV8Q"
      },
      "execution_count": 18,
      "outputs": []
    },
    {
      "cell_type": "code",
      "source": [
        "# 연도, 달, 주\n",
        "year = df.Year.unique()\n",
        "month = df.Month.unique()\n",
        "\n",
        "# 열값중 요일별 사건 발생\n",
        "week = ['OCRN_DOTW_SNDD', 'OCRN_DOTW_MON', 'OCRN_DOTW_TUE', 'OCRN_DOTW_WED', \n",
        "        'OCRN_DOTW_THU', 'OCRN_DOTW_FRI', 'OCRN_DOTW_SAT']\n",
        "\n",
        "# 그냥 열값 리스트에 저장하기 위해\n",
        "hours = ['OCRN_TIZN_0' + str(i) for i in range(0, 10)] + ['OCRN_TIZN_' + str(i) for i in range(10, 24)]\n",
        "\n",
        "time = [i for i in range(24)]"
      ],
      "metadata": {
        "id": "Rr9FtHOphTnn"
      },
      "execution_count": 19,
      "outputs": []
    },
    {
      "cell_type": "markdown",
      "source": [
        "### 전국 전체 데이터셋 시각화"
      ],
      "metadata": {
        "id": "HK5SF-0gN3-0"
      }
    },
    {
      "cell_type": "code",
      "source": [
        "# 참조 지점, 아래 코드가 한글 사용하기 위함인데, 코드 돌리고 런타임 다시 시작하고 셀 전체 다시 실행해야함 \n",
        "# matplotlib 한글 깨짐 현상 해결\n",
        "!sudo apt-get install -y fonts-nanum\n",
        "!sudo fc-cache -fv\n",
        "!rm ~/.cache/matplotlib -rf"
      ],
      "metadata": {
        "colab": {
          "base_uri": "https://localhost:8080/"
        },
        "id": "Xwl7HChrmoxM",
        "outputId": "157cb0ed-8b60-40d7-d74b-8f70601d6d3a"
      },
      "execution_count": 20,
      "outputs": [
        {
          "output_type": "stream",
          "name": "stdout",
          "text": [
            "Reading package lists... Done\n",
            "Building dependency tree       \n",
            "Reading state information... Done\n",
            "fonts-nanum is already the newest version (20180306-3).\n",
            "0 upgraded, 0 newly installed, 0 to remove and 34 not upgraded.\n",
            "/usr/share/fonts: caching, new cache contents: 0 fonts, 1 dirs\n",
            "/usr/share/fonts/truetype: caching, new cache contents: 0 fonts, 3 dirs\n",
            "/usr/share/fonts/truetype/humor-sans: caching, new cache contents: 1 fonts, 0 dirs\n",
            "/usr/share/fonts/truetype/liberation: caching, new cache contents: 16 fonts, 0 dirs\n",
            "/usr/share/fonts/truetype/nanum: caching, new cache contents: 10 fonts, 0 dirs\n",
            "/usr/local/share/fonts: caching, new cache contents: 0 fonts, 0 dirs\n",
            "/root/.local/share/fonts: skipping, no such directory\n",
            "/root/.fonts: skipping, no such directory\n",
            "/usr/share/fonts/truetype: skipping, looped directory detected\n",
            "/usr/share/fonts/truetype/humor-sans: skipping, looped directory detected\n",
            "/usr/share/fonts/truetype/liberation: skipping, looped directory detected\n",
            "/usr/share/fonts/truetype/nanum: skipping, looped directory detected\n",
            "/var/cache/fontconfig: cleaning cache directory\n",
            "/root/.cache/fontconfig: not cleaning non-existent cache directory\n",
            "/root/.fontconfig: not cleaning non-existent cache directory\n",
            "fc-cache: succeeded\n"
          ]
        }
      ]
    },
    {
      "cell_type": "code",
      "source": [
        "year_report = [arr['RPRT_CASCNT_WHOL'].sum() for arr in div_year]\n",
        "\n",
        "plt.rc('font', family='NanumBarunGothic') \n",
        "plt.bar(year, [arr['RPRT_CASCNT_WHOL'].sum() for arr in div_year], \n",
        "        align='center', width = 0.1, linewidth=5, tick_label=year)\n",
        "\n",
        "for i, v in enumerate(year):\n",
        "  plt.text(v, year_report[i], year_report[i], horizontalalignment = 'center')\n",
        "\n",
        "plt.rc('font', family='NanumBarunGothic') \n",
        "plt.title('전국 연도별 총 신고접수량', fontsize = 10)\n",
        "plt.xlabel('year', fontsize = 10)\n",
        "plt.ylabel('신고 접수량', fontsize = 10)\n",
        "\n",
        "plt.gca().spines['right'].set_visible(False) #오른쪽 테두리 제거\n",
        "plt.gca().spines['top'].set_visible(False) #위 테두리 제거\n",
        "plt.gca().spines['left'].set_visible(False) #왼쪽 테두리 제거\n",
        "\n",
        "# plt.plot(year, year_report, color='b',linestyle='--', marker='o') ## 선 그래프 출력\n",
        "\n",
        "plt.show()"
      ],
      "metadata": {
        "colab": {
          "base_uri": "https://localhost:8080/",
          "height": 468
        },
        "id": "7CNdIE8lX2zx",
        "outputId": "a1771fda-ade2-40d2-fbd8-30bd499d9bc4"
      },
      "execution_count": 35,
      "outputs": [
        {
          "output_type": "display_data",
          "data": {
            "text/plain": [
              "<Figure size 640x480 with 1 Axes>"
            ],
            "image/png": "[encoded data removed]"
          },
          "metadata": {}
        }
      ]
    },
    {
      "cell_type": "code",
      "source": [
        "def draw_pieplot(year_df, year):\n",
        "  colors = ['#c1abff', '#d8e1c5', '#80afe5', '#ddadd0', '#ebbfea', \n",
        "            '#84cec0', '#9acee9', '#d6c2b6', '#d48c9d', '#dcf6c5']\n",
        "  ratio = [year_df[i].sum()/year_df['RPRT_CASCNT_WHOL'].sum() for i in week]\n",
        "  labels = ['Sun', 'Mon', 'Tue', 'WED', 'Thu', 'FRI', 'Sat']\n",
        "  explode = [0.1, 0, 0, 0, 0, 0.1,  0.1]\n",
        "  wedgeprops = {'width': 0.7, 'edgecolor': 'w', 'linewidth': 1}\n",
        "\n",
        "  plt.title('전국 {0}년 사건 발생 요일 파이 차트'.format(year))\n",
        "  plt.pie(ratio, labels = labels, autopct = '%.1f%%', startangle=90,\n",
        "          colors=colors, explode = explode, shadow = True, wedgeprops=wedgeprops)\n",
        "\n",
        "  plt.show()\n",
        "  print('\\n'*3)\n",
        "  return\n",
        "\n",
        "for j in range(3):\n",
        "  draw_pieplot(div_year[j], year[j])\n",
        "# plt.savefig('./images/my_pie_chart.png')"
      ],
      "metadata": {
        "colab": {
          "base_uri": "https://localhost:8080/",
          "height": 1000
        },
        "id": "nmz5WcgeX2wq",
        "outputId": "b7db01eb-3c8c-45b3-ac6b-24202a485e9d"
      },
      "execution_count": 34,
      "outputs": [
        {
          "output_type": "display_data",
          "data": {
            "text/plain": [
              "<Figure size 640x480 with 1 Axes>"
            ],
            "image/png": "[encoded data removed]"
          },
          "metadata": {}
        },
        {
          "output_type": "stream",
          "name": "stdout",
          "text": [
            "\n",
            "\n",
            "\n",
            "\n"
          ]
        },
        {
          "output_type": "display_data",
          "data": {
            "text/plain": [
              "<Figure size 640x480 with 1 Axes>"
            ],
            "image/png": "[encoded data removed]"
          },
          "metadata": {}
        },
        {
          "output_type": "stream",
          "name": "stdout",
          "text": [
            "\n",
            "\n",
            "\n",
            "\n"
          ]
        },
        {
          "output_type": "display_data",
          "data": {
            "text/plain": [
              "<Figure size 640x480 with 1 Axes>"
            ],
            "image/png": "[encoded data removed]"
          },
          "metadata": {}
        },
        {
          "output_type": "stream",
          "name": "stdout",
          "text": [
            "\n",
            "\n",
            "\n",
            "\n"
          ]
        }
      ]
    },
    {
      "cell_type": "code",
      "source": [
        "def draw_barplot(year_df, year):\n",
        "  report_cnt = [year_df[x].sum() for x in hours]  \n",
        "  plt.bar(time, report_cnt, width = 0.5, edgecolor='black')\n",
        "\n",
        "  plt.title(f'전국 {year}년 사건 발생 시간 차트', fontsize = 10)\n",
        "  plt.xlabel('사건 발생 시간', fontsize = 10)\n",
        "  plt.ylabel('신고 접수량', fontsize = 10)\n",
        "  plt.yticks(ticks= [])\n",
        "\n",
        "  plt.gca().spines['right'].set_visible(False) #오른쪽 테두리 제거\n",
        "  plt.gca().spines['top'].set_visible(False) #위 테두리 제거\n",
        "  plt.gca().spines['left'].set_visible(False) #왼쪽 테두리 제거\n",
        "\n",
        "  plt.show()\n",
        "  print('\\n'*3)\n",
        "  return\n",
        "\n",
        "for j in range(3):\n",
        "  draw_barplot(div_year[j], year[j])"
      ],
      "metadata": {
        "colab": {
          "base_uri": "https://localhost:8080/",
          "height": 1000
        },
        "id": "c-k9-zXAv8e5",
        "outputId": "975ee3b6-2c69-4674-88bd-950c1bbe8c6f"
      },
      "execution_count": 23,
      "outputs": [
        {
          "output_type": "display_data",
          "data": {
            "text/plain": [
              "<Figure size 640x480 with 1 Axes>"
            ],
            "image/png": "[encoded data removed]"
          },
          "metadata": {}
        },
        {
          "output_type": "stream",
          "name": "stdout",
          "text": [
            "\n",
            "\n",
            "\n",
            "\n"
          ]
        },
        {
          "output_type": "display_data",
          "data": {
            "text/plain": [
              "<Figure size 640x480 with 1 Axes>"
            ],
            "image/png": "[encoded data removed]"
          },
          "metadata": {}
        },
        {
          "output_type": "stream",
          "name": "stdout",
          "text": [
            "\n",
            "\n",
            "\n",
            "\n"
          ]
        },
        {
          "output_type": "display_data",
          "data": {
            "text/plain": [
              "<Figure size 640x480 with 1 Axes>"
            ],
            "image/png": "[encoded data removed]"
          },
          "metadata": {}
        },
        {
          "output_type": "stream",
          "name": "stdout",
          "text": [
            "\n",
            "\n",
            "\n",
            "\n"
          ]
        }
      ]
    },
    {
      "cell_type": "code",
      "source": [
        "def draw_piplot(year_df, year):\n",
        "  report_sum = [year_df[year_df['Month'] == x]['RPRT_CASCNT_WHOL'].sum() for x in month]\n",
        "\n",
        "  plt.gca().spines['right'].set_visible(False) #오른쪽 테두리 제거\n",
        "  plt.gca().spines['top'].set_visible(False) #위 테두리 제거\n",
        "  plt.gca().spines['left'].set_visible(False) #왼쪽 테두리 제거\n",
        "\n",
        "  plt.plot(month, report_sum, marker='o', color = 'g')\n",
        "  plt.title(f'전국 {year}년 월별 신고 접수량', fontsize = 10)\n",
        "  plt.xlabel('month', fontsize = 10)\n",
        "  plt.ylabel('신고 접수량', fontsize = 10)\n",
        "  plt.show()\n",
        "\n",
        "  print('\\n'*3)\n",
        "  return\n",
        "\n",
        "\n",
        "for j in range(3):\n",
        "  draw_piplot(div_year[j], year[j])"
      ],
      "metadata": {
        "colab": {
          "base_uri": "https://localhost:8080/",
          "height": 1000
        },
        "id": "NRDx7hhP0L8x",
        "outputId": "e1054913-d923-4d4e-dd69-52c4395cc651"
      },
      "execution_count": 37,
      "outputs": [
        {
          "output_type": "display_data",
          "data": {
            "text/plain": [
              "<Figure size 640x480 with 1 Axes>"
            ],
            "image/png": "[encoded data removed]"
          },
          "metadata": {}
        },
        {
          "output_type": "stream",
          "name": "stdout",
          "text": [
            "\n",
            "\n",
            "\n",
            "\n"
          ]
        },
        {
          "output_type": "display_data",
          "data": {
            "text/plain": [
              "<Figure size 640x480 with 1 Axes>"
            ],
            "image/png": "[encoded data removed]"
          },
          "metadata": {}
        },
        {
          "output_type": "stream",
          "name": "stdout",
          "text": [
            "\n",
            "\n",
            "\n",
            "\n"
          ]
        },
        {
          "output_type": "display_data",
          "data": {
            "text/plain": [
              "<Figure size 640x480 with 1 Axes>"
            ],
            "image/png": "[encoded data removed]"
          },
          "metadata": {}
        },
        {
          "output_type": "stream",
          "name": "stdout",
          "text": [
            "\n",
            "\n",
            "\n",
            "\n"
          ]
        }
      ]
    },
    {
      "cell_type": "markdown",
      "source": [
        "### incheon 시각화"
      ],
      "metadata": {
        "id": "mLlbLgLsP_Xb"
      }
    },
    {
      "cell_type": "code",
      "source": [
        "# 인천 경찰관서 필터링\n",
        "incheon_df = df[df['PLCST_NM'].str.contains('인천')]"
      ],
      "metadata": {
        "id": "mczT82_KKlSL"
      },
      "execution_count": 29,
      "outputs": []
    },
    {
      "cell_type": "code",
      "source": [
        "incheon_df.shape"
      ],
      "metadata": {
        "id": "iF5E0r24QBrZ",
        "outputId": "2069eb06-0387-44a2-e58c-20a713e1f734",
        "colab": {
          "base_uri": "https://localhost:8080/"
        }
      },
      "execution_count": 31,
      "outputs": [
        {
          "output_type": "execute_result",
          "data": {
            "text/plain": [
              "(418, 52)"
            ]
          },
          "metadata": {},
          "execution_count": 31
        }
      ]
    },
    {
      "cell_type": "code",
      "source": [
        "polices = list(df.PLCST_NM.unique())\n",
        "address = [\n",
        "    '인천 강화군 동문안길 17 인천강화경찰서',\n",
        "    '인천 계양구 계산새로 68 계양경찰서',\n",
        "    '인천 중구 공항로 271 서편 2층',\n",
        "    '인천 남동구 비류대로762번길 10 남동경찰서',\n",
        "    '인천 남동구 논현고잔로 239',\n",
        "    '인천 미추홀구 매소홀로290번길 32 인천미추홀경찰서',\n",
        "    '인천 부평구 길주로 511 부평경찰서',\n",
        "    '인천 부평구 굴포로 104 삼산경찰서',\n",
        "    '인천 서구 탁옥로 77 인천 서부경찰서',\n",
        "    '인천 연수구 원인재로 138',\n",
        "    '인천 중구 제물량로 237',\n",
        "    '인천 남동구 예술로152번길 9 인천경찰청'\n",
        "]\n",
        "\n",
        "district = ['Ganghwa-gun', 'Gyeyang-gu', 'Jung-gu', 'Namdong-gu', 'Namdong-gu', 'Nam-gu', 'Bupyeong-gu', 'Bupyeong-gu ', 'Seo-gu', 'Yeonsu-gu', 'Jung-gu', 'Dong-gu']\n",
        "\n",
        "map_df = pd.DataFrame({'name':polices, 'address':address, 'district':district})\n",
        "map_df\n",
        "\n",
        "# import requests\n",
        "# lat, lng = [], []\n",
        "# for i, addr in enumerate(map_df['address']):\n",
        "#     url = 'https://dapi.kakao.com/v2/local/search/address.json?query={}'.format(addr)\n",
        "#     headers = {\"Authorization\": \"KakaoAK 8a41302d9250e8cce2875611a5327245\"}\n",
        "#     result = requests.get(url, headers = headers).json()\n",
        "#     lat.append(result[\"documents\"][0][\"x\"])\n",
        "#     lng.append(result[\"documents\"][0][\"y\"])\n",
        "  \n",
        "# map_df['lat'] = lat\n",
        "# map_df['lng'] = lng"
      ],
      "metadata": {
        "id": "8lRBEnCXe3Lo"
      },
      "execution_count": null,
      "outputs": []
    },
    {
      "cell_type": "code",
      "source": [
        "map_df.drop(map_df[map_df['name'] == \"인천국제공항경찰단\"].index , inplace=True)\n",
        "map_df"
      ],
      "metadata": {
        "id": "1H-Y04ywp1Mg"
      },
      "execution_count": null,
      "outputs": []
    },
    {
      "cell_type": "code",
      "source": [
        "for i in range(3):\n",
        "  year_df = div_year[i]\n",
        "  new_year = year[i]\n",
        "  map_df[new_year] = [year_df[year_df['PLCST_NM'] == x]['RPRT_CASCNT_WHOL'].sum() for x in map_df['name']]\n",
        "\n",
        "map_df"
      ],
      "metadata": {
        "id": "lHO6seJfqffb"
      },
      "execution_count": null,
      "outputs": []
    },
    {
      "cell_type": "code",
      "source": [
        "# json파일로 존재하는 대한민국을 구역으로 나누어놓은 파일\n",
        "import urllib.request\n",
        "with urllib.request.urlopen('https://raw.githubusercontent.com/southkorea/southkorea-maps/master/kostat/2018/json/skorea-municipalities-2018-geo.json') as url:\n",
        "                            dt = json.loads(url.read().decode())\n",
        "                         \n",
        "json_string = json.dumps(dt)\n",
        "\n",
        "f = open('geo_json', 'w')\n",
        "f.write(json_string)\n",
        "f.close()\n",
        "f = open(\"./geo_json\", 'r')\n",
        "geo = json.loads(f.read())"
      ],
      "metadata": {
        "id": "DsZ76uLRkRQp"
      },
      "execution_count": null,
      "outputs": []
    },
    {
      "cell_type": "code",
      "source": [
        "map_19 = folium.Map(\n",
        "    location = [37.4562557,\t126.7052062],\n",
        "    tiles = \"CartoDB positron\",\n",
        "    zoom_start=13,\n",
        ")\n",
        "\n",
        "folium.Choropleth(\n",
        "    geo_data = geo,\n",
        "    data = map_df,\n",
        "    columns = ('district', 2019),\n",
        "    key_on = 'feature.properties.name_eng',\n",
        "    fill_color='YlOrBr',\n",
        "    fill_opacity=0.7,\n",
        "    line_opacity=1,\n",
        "    line_weight=1.5,\n",
        "    legend_name = '2019 구별 사건접수량',\n",
        "    highlight = True\n",
        "\n",
        ").add_to(map_19)\n",
        "\n",
        "map_19"
      ],
      "metadata": {
        "id": "yXnz23-KtYYw"
      },
      "execution_count": null,
      "outputs": []
    },
    {
      "cell_type": "code",
      "source": [
        "df.head()"
      ],
      "metadata": {
        "id": "qywgRLSC4YcK"
      },
      "execution_count": null,
      "outputs": []
    },
    {
      "cell_type": "code",
      "source": [
        "predict_df = df[['ACPT_YM', 'PLCST_NM', 'RPRT_CASCNT_WHOL']]"
      ],
      "metadata": {
        "id": "DfB1wTAz4YZ2"
      },
      "execution_count": null,
      "outputs": []
    },
    {
      "cell_type": "code",
      "source": [
        "map_df"
      ],
      "metadata": {
        "id": "AZx8CS_cAigD"
      },
      "execution_count": null,
      "outputs": []
    },
    {
      "cell_type": "code",
      "source": [
        "predict_df.drop(predict_df[predict_df['PLCST_NM'] == '인천국제공항경찰단'].index, inplace = True)"
      ],
      "metadata": {
        "id": "SsuKD18zCh2c"
      },
      "execution_count": null,
      "outputs": []
    },
    {
      "cell_type": "code",
      "source": [
        "predict_df.reset_index(drop = True, inplace = True)"
      ],
      "metadata": {
        "id": "rMCRyyUHF-nL"
      },
      "execution_count": null,
      "outputs": []
    },
    {
      "cell_type": "code",
      "source": [
        "predict_df"
      ],
      "metadata": {
        "id": "jdV1nMtAGS7d"
      },
      "execution_count": null,
      "outputs": []
    },
    {
      "cell_type": "code",
      "source": [
        "def find_region(x, y):\n",
        "  return map_df.loc[map_df.index[map_df['name'] == x].tolist()[0]]['district']\n",
        "\n",
        "region = []\n",
        "\n",
        "for i in range(len(predict_df)):\n",
        "  region.append(find_region(predict_df.loc[i, \"PLCST_NM\"], map_df))\n",
        "\n",
        "predict_df['region'] = region"
      ],
      "metadata": {
        "id": "c1-YyFy04YXT"
      },
      "execution_count": null,
      "outputs": []
    },
    {
      "cell_type": "code",
      "source": [
        "predict_df.isnull().sum()"
      ],
      "metadata": {
        "id": "KObYudFlFHCn"
      },
      "execution_count": null,
      "outputs": []
    },
    {
      "cell_type": "code",
      "source": [
        "predict_df"
      ],
      "metadata": {
        "id": "4O3MU2MDCfVe"
      },
      "execution_count": null,
      "outputs": []
    },
    {
      "cell_type": "code",
      "source": [
        "predict_df.to_csv(\"/content/drive/MyDrive/데이터마이닝/predict_112.csv\")"
      ],
      "metadata": {
        "id": "9I7_V4pKHBy0"
      },
      "execution_count": null,
      "outputs": []
    },
    {
      "cell_type": "code",
      "source": [],
      "metadata": {
        "id": "ILcoAnvbNewz"
      },
      "execution_count": null,
      "outputs": []
    },
    {
      "cell_type": "code",
      "source": [],
      "metadata": {
        "id": "-P77DoLJNetj"
      },
      "execution_count": null,
      "outputs": []
    },
    {
      "cell_type": "code",
      "source": [],
      "metadata": {
        "id": "lP5rKoIJNerD"
      },
      "execution_count": null,
      "outputs": []
    }
  ]
}