{
  "nbformat": 4,
  "nbformat_minor": 0,
  "metadata": {
    "colab": {
      "provenance": [],
      "mount_file_id": "13na-pHKkzkIYZJSRWZL9Yko-rCDuwxf3",
      "authorship_tag": "ABX9TyOtfvchBT91euhVYcofhYEw",
      "include_colab_link": true
    },
    "kernelspec": {
      "name": "python3",
      "display_name": "Python 3"
    },
    "language_info": {
      "name": "python"
    }
  },
  "cells": [
    {
      "cell_type": "markdown",
      "metadata": {
        "id": "view-in-github",
        "colab_type": "text"
      },
      "source": [
        "<a href=\"https://colab.research.google.com/github/geun-hyoung/Forecasting_the_number_of_complaints_received/blob/main/Data_Clenaing%26EDA.ipynb\" target=\"_parent\"><img src=\"https://colab.research.google.com/assets/colab-badge.svg\" alt=\"Open In Colab\"/></a>"
      ]
    },
    {
      "cell_type": "markdown",
      "source": [
        "### Data Load(Concat)& Library "
      ],
      "metadata": {
        "id": "dGhBpi8NTqkb"
      }
    },
    {
      "cell_type": "code",
      "source": [
        "# google drive\n",
        "from google.colab import drive\n",
        "drive.mount('/content/drive') # Connect to drive"
      ],
      "metadata": {
        "id": "v1R7c_FwcyFf",
        "outputId": "62fa29ba-79ad-4c05-fec7-b285600cee9b",
        "colab": {
          "base_uri": "https://localhost:8080/"
        }
      },
      "execution_count": 1,
      "outputs": [
        {
          "output_type": "stream",
          "name": "stdout",
          "text": [
            "Mounted at /content/drive\n"
          ]
        }
      ]
    },
    {
      "cell_type": "code",
      "execution_count": 2,
      "metadata": {
        "id": "1Yetpkx2GW5Y"
      },
      "outputs": [],
      "source": [
        "import pandas as pd\n",
        "import numpy as np\n",
        "import seaborn as sns\n",
        "import matplotlib.pyplot as plt"
      ]
    },
    {
      "cell_type": "code",
      "source": [
        "factor_1 = pd.read_csv('/content/drive/MyDrive/데이터마이닝/112factor_19.csv', encoding = 'cp949')\n",
        "factor_2 = pd.read_csv('/content/drive/MyDrive/데이터마이닝/112factor_20.csv', encoding = 'cp949')\n",
        "factor_3 = pd.read_csv('/content/drive/MyDrive/데이터마이닝/112factor_21.csv', encoding = 'cp949')\n",
        "factor_df = pd.concat([factor_1, factor_2, factor_3], axis = 0)\n",
        "factor_df.head()"
      ],
      "metadata": {
        "colab": {
          "base_uri": "https://localhost:8080/",
          "height": 299
        },
        "id": "sWoN1zC4Kq4P",
        "outputId": "a2c2d1cb-de58-4e3b-aac0-34baac31fd94"
      },
      "execution_count": 3,
      "outputs": [
        {
          "output_type": "execute_result",
          "data": {
            "text/plain": [
              "   ACPT_YM PLCST_NM  RPRT_CASCNT_WHOL  RPRT_SEX_MALE  RPRT_SEX_FMLE  \\\n",
              "0   201901       원주              5014           2916           1500   \n",
              "1   201901       음성              1650            904            463   \n",
              "2   201901       의령               278            156             73   \n",
              "3   201901       의성               547            287            145   \n",
              "4   201901       의왕              1735            928            501   \n",
              "\n",
              "   RPRT_SEX_UNKWN  RPRT_SEX_ETC  ACPT_EMERG_TYPE_EMERG  \\\n",
              "0             598             0                     14   \n",
              "1             283             0                     10   \n",
              "2              49             0                      1   \n",
              "3             115             0                      2   \n",
              "4             305             1                     23   \n",
              "\n",
              "   ACPT_EMERG_TYPE_IMPRTNC  ACPT_EMERG_TYPE_GNRL  ...  CFINC_ETC  \\\n",
              "0                     1090                  2899  ...       4491   \n",
              "1                      438                   823  ...       1509   \n",
              "2                       44                   146  ...        265   \n",
              "3                      152                   247  ...        509   \n",
              "4                      453                   823  ...       1637   \n",
              "\n",
              "   OCRN_DOTW_SNDD  OCRN_DOTW_MON  OCRN_DOTW_TUE  OCRN_DOTW_WED  OCRN_DOTW_THU  \\\n",
              "0             611            617            778            802            813   \n",
              "1             183            213            250            274            254   \n",
              "2              28             29             53             47             42   \n",
              "3              67             65             71             88            108   \n",
              "4             205            229            262            288            322   \n",
              "\n",
              "   OCRN_DOTW_FRI  OCRN_DOTW_SAT  MNTH_AVE_INCOME_AMT  TOTL_RESID_PUL_CNT  \n",
              "0            702            691                  NaN                 NaN  \n",
              "1            227            249                  NaN                 NaN  \n",
              "2             40             39                  NaN                 NaN  \n",
              "3             67             81                  NaN                 NaN  \n",
              "4            218            211                  NaN                 NaN  \n",
              "\n",
              "[5 rows x 28 columns]"
            ],
            "text/html": [
              "\n",
              "  <div id=\"df-97eb0804-3788-405e-94fd-e443340ce106\">\n",
              "    <div class=\"colab-df-container\">\n",
              "      <div>\n",
              "<style scoped>\n",
              "    .dataframe tbody tr th:only-of-type {\n",
              "        vertical-align: middle;\n",
              "    }\n",
              "\n",
              "    .dataframe tbody tr th {\n",
              "        vertical-align: top;\n",
              "    }\n",
              "\n",
              "    .dataframe thead th {\n",
              "        text-align: right;\n",
              "    }\n",
              "</style>\n",
              "<table border=\"1\" class=\"dataframe\">\n",
              "  <thead>\n",
              "    <tr style=\"text-align: right;\">\n",
              "      <th></th>\n",
              "      <th>ACPT_YM</th>\n",
              "      <th>PLCST_NM</th>\n",
              "      <th>RPRT_CASCNT_WHOL</th>\n",
              "      <th>RPRT_SEX_MALE</th>\n",
              "      <th>RPRT_SEX_FMLE</th>\n",
              "      <th>RPRT_SEX_UNKWN</th>\n",
              "      <th>RPRT_SEX_ETC</th>\n",
              "      <th>ACPT_EMERG_TYPE_EMERG</th>\n",
              "      <th>ACPT_EMERG_TYPE_IMPRTNC</th>\n",
              "      <th>ACPT_EMERG_TYPE_GNRL</th>\n",
              "      <th>...</th>\n",
              "      <th>CFINC_ETC</th>\n",
              "      <th>OCRN_DOTW_SNDD</th>\n",
              "      <th>OCRN_DOTW_MON</th>\n",
              "      <th>OCRN_DOTW_TUE</th>\n",
              "      <th>OCRN_DOTW_WED</th>\n",
              "      <th>OCRN_DOTW_THU</th>\n",
              "      <th>OCRN_DOTW_FRI</th>\n",
              "      <th>OCRN_DOTW_SAT</th>\n",
              "      <th>MNTH_AVE_INCOME_AMT</th>\n",
              "      <th>TOTL_RESID_PUL_CNT</th>\n",
              "    </tr>\n",
              "  </thead>\n",
              "  <tbody>\n",
              "    <tr>\n",
              "      <th>0</th>\n",
              "      <td>201901</td>\n",
              "      <td>원주</td>\n",
              "      <td>5014</td>\n",
              "      <td>2916</td>\n",
              "      <td>1500</td>\n",
              "      <td>598</td>\n",
              "      <td>0</td>\n",
              "      <td>14</td>\n",
              "      <td>1090</td>\n",
              "      <td>2899</td>\n",
              "      <td>...</td>\n",
              "      <td>4491</td>\n",
              "      <td>611</td>\n",
              "      <td>617</td>\n",
              "      <td>778</td>\n",
              "      <td>802</td>\n",
              "      <td>813</td>\n",
              "      <td>702</td>\n",
              "      <td>691</td>\n",
              "      <td>NaN</td>\n",
              "      <td>NaN</td>\n",
              "    </tr>\n",
              "    <tr>\n",
              "      <th>1</th>\n",
              "      <td>201901</td>\n",
              "      <td>음성</td>\n",
              "      <td>1650</td>\n",
              "      <td>904</td>\n",
              "      <td>463</td>\n",
              "      <td>283</td>\n",
              "      <td>0</td>\n",
              "      <td>10</td>\n",
              "      <td>438</td>\n",
              "      <td>823</td>\n",
              "      <td>...</td>\n",
              "      <td>1509</td>\n",
              "      <td>183</td>\n",
              "      <td>213</td>\n",
              "      <td>250</td>\n",
              "      <td>274</td>\n",
              "      <td>254</td>\n",
              "      <td>227</td>\n",
              "      <td>249</td>\n",
              "      <td>NaN</td>\n",
              "      <td>NaN</td>\n",
              "    </tr>\n",
              "    <tr>\n",
              "      <th>2</th>\n",
              "      <td>201901</td>\n",
              "      <td>의령</td>\n",
              "      <td>278</td>\n",
              "      <td>156</td>\n",
              "      <td>73</td>\n",
              "      <td>49</td>\n",
              "      <td>0</td>\n",
              "      <td>1</td>\n",
              "      <td>44</td>\n",
              "      <td>146</td>\n",
              "      <td>...</td>\n",
              "      <td>265</td>\n",
              "      <td>28</td>\n",
              "      <td>29</td>\n",
              "      <td>53</td>\n",
              "      <td>47</td>\n",
              "      <td>42</td>\n",
              "      <td>40</td>\n",
              "      <td>39</td>\n",
              "      <td>NaN</td>\n",
              "      <td>NaN</td>\n",
              "    </tr>\n",
              "    <tr>\n",
              "      <th>3</th>\n",
              "      <td>201901</td>\n",
              "      <td>의성</td>\n",
              "      <td>547</td>\n",
              "      <td>287</td>\n",
              "      <td>145</td>\n",
              "      <td>115</td>\n",
              "      <td>0</td>\n",
              "      <td>2</td>\n",
              "      <td>152</td>\n",
              "      <td>247</td>\n",
              "      <td>...</td>\n",
              "      <td>509</td>\n",
              "      <td>67</td>\n",
              "      <td>65</td>\n",
              "      <td>71</td>\n",
              "      <td>88</td>\n",
              "      <td>108</td>\n",
              "      <td>67</td>\n",
              "      <td>81</td>\n",
              "      <td>NaN</td>\n",
              "      <td>NaN</td>\n",
              "    </tr>\n",
              "    <tr>\n",
              "      <th>4</th>\n",
              "      <td>201901</td>\n",
              "      <td>의왕</td>\n",
              "      <td>1735</td>\n",
              "      <td>928</td>\n",
              "      <td>501</td>\n",
              "      <td>305</td>\n",
              "      <td>1</td>\n",
              "      <td>23</td>\n",
              "      <td>453</td>\n",
              "      <td>823</td>\n",
              "      <td>...</td>\n",
              "      <td>1637</td>\n",
              "      <td>205</td>\n",
              "      <td>229</td>\n",
              "      <td>262</td>\n",
              "      <td>288</td>\n",
              "      <td>322</td>\n",
              "      <td>218</td>\n",
              "      <td>211</td>\n",
              "      <td>NaN</td>\n",
              "      <td>NaN</td>\n",
              "    </tr>\n",
              "  </tbody>\n",
              "</table>\n",
              "<p>5 rows × 28 columns</p>\n",
              "</div>\n",
              "      <button class=\"colab-df-convert\" onclick=\"convertToInteractive('df-97eb0804-3788-405e-94fd-e443340ce106')\"\n",
              "              title=\"Convert this dataframe to an interactive table.\"\n",
              "              style=\"display:none;\">\n",
              "        \n",
              "  <svg xmlns=\"http://www.w3.org/2000/svg\" height=\"24px\"viewBox=\"0 0 24 24\"\n",
              "       width=\"24px\">\n",
              "    <path d=\"M0 0h24v24H0V0z\" fill=\"none\"/>\n",
              "    <path d=\"M18.56 5.44l.94 2.06.94-2.06 2.06-.94-2.06-.94-.94-2.06-.94 2.06-2.06.94zm-11 1L8.5 8.5l.94-2.06 2.06-.94-2.06-.94L8.5 2.5l-.94 2.06-2.06.94zm10 10l.94 2.06.94-2.06 2.06-.94-2.06-.94-.94-2.06-.94 2.06-2.06.94z\"/><path d=\"M17.41 7.96l-1.37-1.37c-.4-.4-.92-.59-1.43-.59-.52 0-1.04.2-1.43.59L10.3 9.45l-7.72 7.72c-.78.78-.78 2.05 0 2.83L4 21.41c.39.39.9.59 1.41.59.51 0 1.02-.2 1.41-.59l7.78-7.78 2.81-2.81c.8-.78.8-2.07 0-2.86zM5.41 20L4 18.59l7.72-7.72 1.47 1.35L5.41 20z\"/>\n",
              "  </svg>\n",
              "      </button>\n",
              "      \n",
              "  <style>\n",
              "    .colab-df-container {\n",
              "      display:flex;\n",
              "      flex-wrap:wrap;\n",
              "      gap: 12px;\n",
              "    }\n",
              "\n",
              "    .colab-df-convert {\n",
              "      background-color: #E8F0FE;\n",
              "      border: none;\n",
              "      border-radius: 50%;\n",
              "      cursor: pointer;\n",
              "      display: none;\n",
              "      fill: #1967D2;\n",
              "      height: 32px;\n",
              "      padding: 0 0 0 0;\n",
              "      width: 32px;\n",
              "    }\n",
              "\n",
              "    .colab-df-convert:hover {\n",
              "      background-color: #E2EBFA;\n",
              "      box-shadow: 0px 1px 2px rgba(60, 64, 67, 0.3), 0px 1px 3px 1px rgba(60, 64, 67, 0.15);\n",
              "      fill: #174EA6;\n",
              "    }\n",
              "\n",
              "    [theme=dark] .colab-df-convert {\n",
              "      background-color: #3B4455;\n",
              "      fill: #D2E3FC;\n",
              "    }\n",
              "\n",
              "    [theme=dark] .colab-df-convert:hover {\n",
              "      background-color: #434B5C;\n",
              "      box-shadow: 0px 1px 3px 1px rgba(0, 0, 0, 0.15);\n",
              "      filter: drop-shadow(0px 1px 2px rgba(0, 0, 0, 0.3));\n",
              "      fill: #FFFFFF;\n",
              "    }\n",
              "  </style>\n",
              "\n",
              "      <script>\n",
              "        const buttonEl =\n",
              "          document.querySelector('#df-97eb0804-3788-405e-94fd-e443340ce106 button.colab-df-convert');\n",
              "        buttonEl.style.display =\n",
              "          google.colab.kernel.accessAllowed ? 'block' : 'none';\n",
              "\n",
              "        async function convertToInteractive(key) {\n",
              "          const element = document.querySelector('#df-97eb0804-3788-405e-94fd-e443340ce106');\n",
              "          const dataTable =\n",
              "            await google.colab.kernel.invokeFunction('convertToInteractive',\n",
              "                                                     [key], {});\n",
              "          if (!dataTable) return;\n",
              "\n",
              "          const docLinkHtml = 'Like what you see? Visit the ' +\n",
              "            '<a target=\"_blank\" href=https://colab.research.google.com/notebooks/data_table.ipynb>data table notebook</a>'\n",
              "            + ' to learn more about interactive tables.';\n",
              "          element.innerHTML = '';\n",
              "          dataTable['output_type'] = 'display_data';\n",
              "          await google.colab.output.renderOutput(dataTable, element);\n",
              "          const docLink = document.createElement('div');\n",
              "          docLink.innerHTML = docLinkHtml;\n",
              "          element.appendChild(docLink);\n",
              "        }\n",
              "      </script>\n",
              "    </div>\n",
              "  </div>\n",
              "  "
            ]
          },
          "metadata": {},
          "execution_count": 3
        }
      ]
    },
    {
      "cell_type": "code",
      "source": [
        "factor_df.shape"
      ],
      "metadata": {
        "colab": {
          "base_uri": "https://localhost:8080/"
        },
        "id": "ibpVT3PRKq13",
        "outputId": "e347b560-3e94-4d96-ea79-f90b3f9f97ed"
      },
      "execution_count": 4,
      "outputs": [
        {
          "output_type": "execute_result",
          "data": {
            "text/plain": [
              "(9934, 28)"
            ]
          },
          "metadata": {},
          "execution_count": 4
        }
      ]
    },
    {
      "cell_type": "code",
      "source": [
        "reported_19 = pd.read_csv('/content/drive/MyDrive/데이터마이닝/Korea_112_19.csv', encoding = 'cp949')\n",
        "reported_20 = pd.read_csv('/content/drive/MyDrive/데이터마이닝/Korea_112_20.csv', encoding = 'cp949')\n",
        "reported_21 = pd.read_csv('/content/drive/MyDrive/데이터마이닝/Korea_112_21.csv', encoding = 'cp949')\n",
        "reported_df = pd.concat([reported_19, reported_20, reported_21], axis = 0)\n",
        "reported_df.tail()"
      ],
      "metadata": {
        "colab": {
          "base_uri": "https://localhost:8080/",
          "height": 299
        },
        "id": "VnDPLmxCKqzO",
        "outputId": "7701b240-fca0-4dcf-d0c4-beecfa7dfcb4"
      },
      "execution_count": 5,
      "outputs": [
        {
          "output_type": "execute_result",
          "data": {
            "text/plain": [
              "      ACPT_YM PLCST_NM  RPRT_CASCNT_WHOL  RPRT_SEX_MALE  RPRT_SEX_FMLE  \\\n",
              "3286   202112       영천               994            484            263   \n",
              "3287   202112      대구청               128             68             34   \n",
              "3288   202112       평창               544            257            118   \n",
              "3289   202112      대전청               111             55             31   \n",
              "3290   202112      제주청                39             17             12   \n",
              "\n",
              "      RPRT_SEX_UNKWN  RPRT_SEX_ETC  ACPT_EMERG_TYPE_EMERG  \\\n",
              "3286             247             0                      3   \n",
              "3287              26             0                      4   \n",
              "3288             169             0                      4   \n",
              "3289              25             0                      1   \n",
              "3290              10             0                      0   \n",
              "\n",
              "      ACPT_EMERG_TYPE_IMPRTNC  ACPT_EMERG_TYPE_GNRL  ...  OCRN_TIZN_14  \\\n",
              "3286                      170                   513  ...            78   \n",
              "3287                       55                    51  ...             5   \n",
              "3288                      128                   278  ...            38   \n",
              "3289                       71                    28  ...             3   \n",
              "3290                       26                    11  ...             2   \n",
              "\n",
              "      OCRN_TIZN_15  OCRN_TIZN_16  OCRN_TIZN_17  OCRN_TIZN_18  OCRN_TIZN_19  \\\n",
              "3286            65            52            57            51            62   \n",
              "3287             2             9             2            12             9   \n",
              "3288            23            48            28            33            30   \n",
              "3289             6             4             5             8             9   \n",
              "3290             3             1             1             5             0   \n",
              "\n",
              "      OCRN_TIZN_20  OCRN_TIZN_21  OCRN_TIZN_22  OCRN_TIZN_23  \n",
              "3286            66            60            46            58  \n",
              "3287             9             7             5             5  \n",
              "3288            23            26            33            23  \n",
              "3289             6             6            10             5  \n",
              "3290             1             2             5             0  \n",
              "\n",
              "[5 rows x 43 columns]"
            ],
            "text/html": [
              "\n",
              "  <div id=\"df-e674cde2-9fc3-4943-8a7b-a261c2021890\">\n",
              "    <div class=\"colab-df-container\">\n",
              "      <div>\n",
              "<style scoped>\n",
              "    .dataframe tbody tr th:only-of-type {\n",
              "        vertical-align: middle;\n",
              "    }\n",
              "\n",
              "    .dataframe tbody tr th {\n",
              "        vertical-align: top;\n",
              "    }\n",
              "\n",
              "    .dataframe thead th {\n",
              "        text-align: right;\n",
              "    }\n",
              "</style>\n",
              "<table border=\"1\" class=\"dataframe\">\n",
              "  <thead>\n",
              "    <tr style=\"text-align: right;\">\n",
              "      <th></th>\n",
              "      <th>ACPT_YM</th>\n",
              "      <th>PLCST_NM</th>\n",
              "      <th>RPRT_CASCNT_WHOL</th>\n",
              "      <th>RPRT_SEX_MALE</th>\n",
              "      <th>RPRT_SEX_FMLE</th>\n",
              "      <th>RPRT_SEX_UNKWN</th>\n",
              "      <th>RPRT_SEX_ETC</th>\n",
              "      <th>ACPT_EMERG_TYPE_EMERG</th>\n",
              "      <th>ACPT_EMERG_TYPE_IMPRTNC</th>\n",
              "      <th>ACPT_EMERG_TYPE_GNRL</th>\n",
              "      <th>...</th>\n",
              "      <th>OCRN_TIZN_14</th>\n",
              "      <th>OCRN_TIZN_15</th>\n",
              "      <th>OCRN_TIZN_16</th>\n",
              "      <th>OCRN_TIZN_17</th>\n",
              "      <th>OCRN_TIZN_18</th>\n",
              "      <th>OCRN_TIZN_19</th>\n",
              "      <th>OCRN_TIZN_20</th>\n",
              "      <th>OCRN_TIZN_21</th>\n",
              "      <th>OCRN_TIZN_22</th>\n",
              "      <th>OCRN_TIZN_23</th>\n",
              "    </tr>\n",
              "  </thead>\n",
              "  <tbody>\n",
              "    <tr>\n",
              "      <th>3286</th>\n",
              "      <td>202112</td>\n",
              "      <td>영천</td>\n",
              "      <td>994</td>\n",
              "      <td>484</td>\n",
              "      <td>263</td>\n",
              "      <td>247</td>\n",
              "      <td>0</td>\n",
              "      <td>3</td>\n",
              "      <td>170</td>\n",
              "      <td>513</td>\n",
              "      <td>...</td>\n",
              "      <td>78</td>\n",
              "      <td>65</td>\n",
              "      <td>52</td>\n",
              "      <td>57</td>\n",
              "      <td>51</td>\n",
              "      <td>62</td>\n",
              "      <td>66</td>\n",
              "      <td>60</td>\n",
              "      <td>46</td>\n",
              "      <td>58</td>\n",
              "    </tr>\n",
              "    <tr>\n",
              "      <th>3287</th>\n",
              "      <td>202112</td>\n",
              "      <td>대구청</td>\n",
              "      <td>128</td>\n",
              "      <td>68</td>\n",
              "      <td>34</td>\n",
              "      <td>26</td>\n",
              "      <td>0</td>\n",
              "      <td>4</td>\n",
              "      <td>55</td>\n",
              "      <td>51</td>\n",
              "      <td>...</td>\n",
              "      <td>5</td>\n",
              "      <td>2</td>\n",
              "      <td>9</td>\n",
              "      <td>2</td>\n",
              "      <td>12</td>\n",
              "      <td>9</td>\n",
              "      <td>9</td>\n",
              "      <td>7</td>\n",
              "      <td>5</td>\n",
              "      <td>5</td>\n",
              "    </tr>\n",
              "    <tr>\n",
              "      <th>3288</th>\n",
              "      <td>202112</td>\n",
              "      <td>평창</td>\n",
              "      <td>544</td>\n",
              "      <td>257</td>\n",
              "      <td>118</td>\n",
              "      <td>169</td>\n",
              "      <td>0</td>\n",
              "      <td>4</td>\n",
              "      <td>128</td>\n",
              "      <td>278</td>\n",
              "      <td>...</td>\n",
              "      <td>38</td>\n",
              "      <td>23</td>\n",
              "      <td>48</td>\n",
              "      <td>28</td>\n",
              "      <td>33</td>\n",
              "      <td>30</td>\n",
              "      <td>23</td>\n",
              "      <td>26</td>\n",
              "      <td>33</td>\n",
              "      <td>23</td>\n",
              "    </tr>\n",
              "    <tr>\n",
              "      <th>3289</th>\n",
              "      <td>202112</td>\n",
              "      <td>대전청</td>\n",
              "      <td>111</td>\n",
              "      <td>55</td>\n",
              "      <td>31</td>\n",
              "      <td>25</td>\n",
              "      <td>0</td>\n",
              "      <td>1</td>\n",
              "      <td>71</td>\n",
              "      <td>28</td>\n",
              "      <td>...</td>\n",
              "      <td>3</td>\n",
              "      <td>6</td>\n",
              "      <td>4</td>\n",
              "      <td>5</td>\n",
              "      <td>8</td>\n",
              "      <td>9</td>\n",
              "      <td>6</td>\n",
              "      <td>6</td>\n",
              "      <td>10</td>\n",
              "      <td>5</td>\n",
              "    </tr>\n",
              "    <tr>\n",
              "      <th>3290</th>\n",
              "      <td>202112</td>\n",
              "      <td>제주청</td>\n",
              "      <td>39</td>\n",
              "      <td>17</td>\n",
              "      <td>12</td>\n",
              "      <td>10</td>\n",
              "      <td>0</td>\n",
              "      <td>0</td>\n",
              "      <td>26</td>\n",
              "      <td>11</td>\n",
              "      <td>...</td>\n",
              "      <td>2</td>\n",
              "      <td>3</td>\n",
              "      <td>1</td>\n",
              "      <td>1</td>\n",
              "      <td>5</td>\n",
              "      <td>0</td>\n",
              "      <td>1</td>\n",
              "      <td>2</td>\n",
              "      <td>5</td>\n",
              "      <td>0</td>\n",
              "    </tr>\n",
              "  </tbody>\n",
              "</table>\n",
              "<p>5 rows × 43 columns</p>\n",
              "</div>\n",
              "      <button class=\"colab-df-convert\" onclick=\"convertToInteractive('df-e674cde2-9fc3-4943-8a7b-a261c2021890')\"\n",
              "              title=\"Convert this dataframe to an interactive table.\"\n",
              "              style=\"display:none;\">\n",
              "        \n",
              "  <svg xmlns=\"http://www.w3.org/2000/svg\" height=\"24px\"viewBox=\"0 0 24 24\"\n",
              "       width=\"24px\">\n",
              "    <path d=\"M0 0h24v24H0V0z\" fill=\"none\"/>\n",
              "    <path d=\"M18.56 5.44l.94 2.06.94-2.06 2.06-.94-2.06-.94-.94-2.06-.94 2.06-2.06.94zm-11 1L8.5 8.5l.94-2.06 2.06-.94-2.06-.94L8.5 2.5l-.94 2.06-2.06.94zm10 10l.94 2.06.94-2.06 2.06-.94-2.06-.94-.94-2.06-.94 2.06-2.06.94z\"/><path d=\"M17.41 7.96l-1.37-1.37c-.4-.4-.92-.59-1.43-.59-.52 0-1.04.2-1.43.59L10.3 9.45l-7.72 7.72c-.78.78-.78 2.05 0 2.83L4 21.41c.39.39.9.59 1.41.59.51 0 1.02-.2 1.41-.59l7.78-7.78 2.81-2.81c.8-.78.8-2.07 0-2.86zM5.41 20L4 18.59l7.72-7.72 1.47 1.35L5.41 20z\"/>\n",
              "  </svg>\n",
              "      </button>\n",
              "      \n",
              "  <style>\n",
              "    .colab-df-container {\n",
              "      display:flex;\n",
              "      flex-wrap:wrap;\n",
              "      gap: 12px;\n",
              "    }\n",
              "\n",
              "    .colab-df-convert {\n",
              "      background-color: #E8F0FE;\n",
              "      border: none;\n",
              "      border-radius: 50%;\n",
              "      cursor: pointer;\n",
              "      display: none;\n",
              "      fill: #1967D2;\n",
              "      height: 32px;\n",
              "      padding: 0 0 0 0;\n",
              "      width: 32px;\n",
              "    }\n",
              "\n",
              "    .colab-df-convert:hover {\n",
              "      background-color: #E2EBFA;\n",
              "      box-shadow: 0px 1px 2px rgba(60, 64, 67, 0.3), 0px 1px 3px 1px rgba(60, 64, 67, 0.15);\n",
              "      fill: #174EA6;\n",
              "    }\n",
              "\n",
              "    [theme=dark] .colab-df-convert {\n",
              "      background-color: #3B4455;\n",
              "      fill: #D2E3FC;\n",
              "    }\n",
              "\n",
              "    [theme=dark] .colab-df-convert:hover {\n",
              "      background-color: #434B5C;\n",
              "      box-shadow: 0px 1px 3px 1px rgba(0, 0, 0, 0.15);\n",
              "      filter: drop-shadow(0px 1px 2px rgba(0, 0, 0, 0.3));\n",
              "      fill: #FFFFFF;\n",
              "    }\n",
              "  </style>\n",
              "\n",
              "      <script>\n",
              "        const buttonEl =\n",
              "          document.querySelector('#df-e674cde2-9fc3-4943-8a7b-a261c2021890 button.colab-df-convert');\n",
              "        buttonEl.style.display =\n",
              "          google.colab.kernel.accessAllowed ? 'block' : 'none';\n",
              "\n",
              "        async function convertToInteractive(key) {\n",
              "          const element = document.querySelector('#df-e674cde2-9fc3-4943-8a7b-a261c2021890');\n",
              "          const dataTable =\n",
              "            await google.colab.kernel.invokeFunction('convertToInteractive',\n",
              "                                                     [key], {});\n",
              "          if (!dataTable) return;\n",
              "\n",
              "          const docLinkHtml = 'Like what you see? Visit the ' +\n",
              "            '<a target=\"_blank\" href=https://colab.research.google.com/notebooks/data_table.ipynb>data table notebook</a>'\n",
              "            + ' to learn more about interactive tables.';\n",
              "          element.innerHTML = '';\n",
              "          dataTable['output_type'] = 'display_data';\n",
              "          await google.colab.output.renderOutput(dataTable, element);\n",
              "          const docLink = document.createElement('div');\n",
              "          docLink.innerHTML = docLinkHtml;\n",
              "          element.appendChild(docLink);\n",
              "        }\n",
              "      </script>\n",
              "    </div>\n",
              "  </div>\n",
              "  "
            ]
          },
          "metadata": {},
          "execution_count": 5
        }
      ]
    },
    {
      "cell_type": "code",
      "source": [
        "reported_df.shape"
      ],
      "metadata": {
        "colab": {
          "base_uri": "https://localhost:8080/"
        },
        "id": "77eQzR_NKqwW",
        "outputId": "101a3c21-d701-4e23-f0cb-aeecb6d02881"
      },
      "execution_count": 6,
      "outputs": [
        {
          "output_type": "execute_result",
          "data": {
            "text/plain": [
              "(9946, 43)"
            ]
          },
          "metadata": {},
          "execution_count": 6
        }
      ]
    },
    {
      "cell_type": "code",
      "source": [
        "incheon_factor = factor_df[factor_df['PLCST_NM'].str.contains('인천')] \n",
        "incheon_df = reported_df[reported_df['PLCST_NM'].str.contains('인천')] "
      ],
      "metadata": {
        "id": "x8uSd9EXWEe6"
      },
      "execution_count": 7,
      "outputs": []
    },
    {
      "cell_type": "code",
      "source": [
        "def change_dt(values):\n",
        "    return str(values)[0:4] + '-' + str(values)[4:] \n",
        "\n",
        "incheon_df['ACPT_YM'] = incheon_df['ACPT_YM'].apply(change_dt)\n",
        "incheon_factor['ACPT_YM'] = incheon_factor['ACPT_YM'].apply(change_dt)"
      ],
      "metadata": {
        "colab": {
          "base_uri": "https://localhost:8080/"
        },
        "id": "m_0CdHqeO8zO",
        "outputId": "168cd10b-9878-4e47-bb59-0168c79b8e86"
      },
      "execution_count": 8,
      "outputs": [
        {
          "output_type": "stream",
          "name": "stderr",
          "text": [
            "<ipython-input-8-7f319e672a1b>:4: SettingWithCopyWarning: \n",
            "A value is trying to be set on a copy of a slice from a DataFrame.\n",
            "Try using .loc[row_indexer,col_indexer] = value instead\n",
            "\n",
            "See the caveats in the documentation: https://pandas.pydata.org/pandas-docs/stable/user_guide/indexing.html#returning-a-view-versus-a-copy\n",
            "  incheon_df['ACPT_YM'] = incheon_df['ACPT_YM'].apply(change_dt)\n",
            "<ipython-input-8-7f319e672a1b>:5: SettingWithCopyWarning: \n",
            "A value is trying to be set on a copy of a slice from a DataFrame.\n",
            "Try using .loc[row_indexer,col_indexer] = value instead\n",
            "\n",
            "See the caveats in the documentation: https://pandas.pydata.org/pandas-docs/stable/user_guide/indexing.html#returning-a-view-versus-a-copy\n",
            "  incheon_factor['ACPT_YM'] = incheon_factor['ACPT_YM'].apply(change_dt)\n"
          ]
        }
      ]
    },
    {
      "cell_type": "code",
      "source": [
        "import datetime as dt\n",
        "incheon_df['ACPT_YM'] = incheon_df['ACPT_YM'].apply(lambda x: dt.datetime.strptime(x, \"%Y-%m\"))\n",
        "incheon_factor['ACPT_YM'] = incheon_factor['ACPT_YM'].apply(lambda x: dt.datetime.strptime(x, \"%Y-%m\"))"
      ],
      "metadata": {
        "colab": {
          "base_uri": "https://localhost:8080/"
        },
        "id": "Z_4iFj53dJeI",
        "outputId": "01058a05-5d5b-4474-8123-e8efceb45989"
      },
      "execution_count": 9,
      "outputs": [
        {
          "output_type": "stream",
          "name": "stderr",
          "text": [
            "<ipython-input-9-3dc3e4d06191>:2: SettingWithCopyWarning: \n",
            "A value is trying to be set on a copy of a slice from a DataFrame.\n",
            "Try using .loc[row_indexer,col_indexer] = value instead\n",
            "\n",
            "See the caveats in the documentation: https://pandas.pydata.org/pandas-docs/stable/user_guide/indexing.html#returning-a-view-versus-a-copy\n",
            "  incheon_df['ACPT_YM'] = incheon_df['ACPT_YM'].apply(lambda x: dt.datetime.strptime(x, \"%Y-%m\"))\n",
            "<ipython-input-9-3dc3e4d06191>:3: SettingWithCopyWarning: \n",
            "A value is trying to be set on a copy of a slice from a DataFrame.\n",
            "Try using .loc[row_indexer,col_indexer] = value instead\n",
            "\n",
            "See the caveats in the documentation: https://pandas.pydata.org/pandas-docs/stable/user_guide/indexing.html#returning-a-view-versus-a-copy\n",
            "  incheon_factor['ACPT_YM'] = incheon_factor['ACPT_YM'].apply(lambda x: dt.datetime.strptime(x, \"%Y-%m\"))\n"
          ]
        }
      ]
    },
    {
      "cell_type": "code",
      "source": [
        "incheon_factor.dtypes"
      ],
      "metadata": {
        "id": "zoEigy4mnpWk",
        "outputId": "538a847f-148a-4655-8228-3949fb4e5f30",
        "colab": {
          "base_uri": "https://localhost:8080/"
        }
      },
      "execution_count": 10,
      "outputs": [
        {
          "output_type": "execute_result",
          "data": {
            "text/plain": [
              "ACPT_YM                    datetime64[ns]\n",
              "PLCST_NM                           object\n",
              "RPRT_CASCNT_WHOL                    int64\n",
              "RPRT_SEX_MALE                       int64\n",
              "RPRT_SEX_FMLE                       int64\n",
              "RPRT_SEX_UNKWN                      int64\n",
              "RPRT_SEX_ETC                        int64\n",
              "ACPT_EMERG_TYPE_EMERG               int64\n",
              "ACPT_EMERG_TYPE_IMPRTNC             int64\n",
              "ACPT_EMERG_TYPE_GNRL                int64\n",
              "ACPT_EMERG_TYPE_CVAPP               int64\n",
              "ACPT_EMERG_TYPE_ETC                 int64\n",
              "CFINC_DSTVC                         int64\n",
              "CFINC_DTVC                          int64\n",
              "CFINC_MRDR                          int64\n",
              "CFINC_SVLNC                         int64\n",
              "CFINC_SUCD                          int64\n",
              "CFINC_INCVLC                        int64\n",
              "CFINC_ETC                           int64\n",
              "OCRN_DOTW_SNDD                      int64\n",
              "OCRN_DOTW_MON                       int64\n",
              "OCRN_DOTW_TUE                       int64\n",
              "OCRN_DOTW_WED                       int64\n",
              "OCRN_DOTW_THU                       int64\n",
              "OCRN_DOTW_FRI                       int64\n",
              "OCRN_DOTW_SAT                       int64\n",
              "MNTH_AVE_INCOME_AMT               float64\n",
              "TOTL_RESID_PUL_CNT                float64\n",
              "dtype: object"
            ]
          },
          "metadata": {},
          "execution_count": 10
        }
      ]
    },
    {
      "cell_type": "markdown",
      "source": [],
      "metadata": {
        "id": "4pQ8yU-pv3Ig"
      }
    },
    {
      "cell_type": "code",
      "source": [
        "incheon_df.to_csv('/content/drive/MyDrive/데이터마이닝/인천시신고데이터.csv', sep=',', na_rep='NaN')   # missing data representation (결측값 표기)\n",
        "incheon_factor.to_csv('/content/drive/MyDrive/데이터마이닝/인천시융합데이터.csv', sep=',', na_rep='NaN')"
      ],
      "metadata": {
        "id": "5C2M3ZRLoLbl"
      },
      "execution_count": 16,
      "outputs": []
    },
    {
      "cell_type": "code",
      "source": [
        "incheon_factor.PLCST_NM.value_counts()"
      ],
      "metadata": {
        "id": "bKMFF5bkQ-Hs",
        "outputId": "2bcbdc73-51f2-4dc7-cef4-52bbb93d221d",
        "colab": {
          "base_uri": "https://localhost:8080/"
        }
      },
      "execution_count": 22,
      "outputs": [
        {
          "output_type": "execute_result",
          "data": {
            "text/plain": [
              "인천강화         36\n",
              "인천계양         36\n",
              "인천남동         36\n",
              "인천논현         36\n",
              "인천미추홀        36\n",
              "인천부평         36\n",
              "인천삼산         36\n",
              "인천서부         36\n",
              "인천연수         36\n",
              "인천중부         36\n",
              "인천청          36\n",
              "인천국제공항경찰단    24\n",
              "Name: PLCST_NM, dtype: int64"
            ]
          },
          "metadata": {},
          "execution_count": 22
        }
      ]
    },
    {
      "cell_type": "code",
      "source": [
        "ic = incheon_df.groupby(incheon_df['PLCST_NM']).count()"
      ],
      "metadata": {
        "id": "LqngAkBhtDs6"
      },
      "execution_count": 28,
      "outputs": []
    },
    {
      "cell_type": "code",
      "source": [
        "print(ic)"
      ],
      "metadata": {
        "id": "o96Ncqe0uz1r",
        "outputId": "342f5482-6880-4baa-b2a4-a086a0873895",
        "colab": {
          "base_uri": "https://localhost:8080/"
        }
      },
      "execution_count": 30,
      "outputs": [
        {
          "output_type": "stream",
          "name": "stdout",
          "text": [
            "           ACPT_YM  RPRT_CASCNT_WHOL  RPRT_SEX_MALE  RPRT_SEX_FMLE  \\\n",
            "PLCST_NM                                                             \n",
            "인천강화            36                36             36             36   \n",
            "인천계양            36                36             36             36   \n",
            "인천국제공항경찰단       24                24             24             24   \n",
            "인천남동            36                36             36             36   \n",
            "인천논현            36                36             36             36   \n",
            "인천미추홀           36                36             36             36   \n",
            "인천부평            36                36             36             36   \n",
            "인천삼산            36                36             36             36   \n",
            "인천서부            36                36             36             36   \n",
            "인천연수            36                36             36             36   \n",
            "인천중부            36                36             36             36   \n",
            "인천청             36                36             36             36   \n",
            "\n",
            "           RPRT_SEX_UNKWN  RPRT_SEX_ETC  ACPT_EMERG_TYPE_EMERG  \\\n",
            "PLCST_NM                                                         \n",
            "인천강화                   36            36                     36   \n",
            "인천계양                   36            36                     36   \n",
            "인천국제공항경찰단              24            24                     24   \n",
            "인천남동                   36            36                     36   \n",
            "인천논현                   36            36                     36   \n",
            "인천미추홀                  36            36                     36   \n",
            "인천부평                   36            36                     36   \n",
            "인천삼산                   36            36                     36   \n",
            "인천서부                   36            36                     36   \n",
            "인천연수                   36            36                     36   \n",
            "인천중부                   36            36                     36   \n",
            "인천청                    36            36                     36   \n",
            "\n",
            "           ACPT_EMERG_TYPE_IMPRTNC  ACPT_EMERG_TYPE_GNRL  \\\n",
            "PLCST_NM                                                   \n",
            "인천강화                            36                    36   \n",
            "인천계양                            36                    36   \n",
            "인천국제공항경찰단                       24                    24   \n",
            "인천남동                            36                    36   \n",
            "인천논현                            36                    36   \n",
            "인천미추홀                           36                    36   \n",
            "인천부평                            36                    36   \n",
            "인천삼산                            36                    36   \n",
            "인천서부                            36                    36   \n",
            "인천연수                            36                    36   \n",
            "인천중부                            36                    36   \n",
            "인천청                             36                    36   \n",
            "\n",
            "           ACPT_EMERG_TYPE_CVAPP  ...  OCRN_TIZN_14  OCRN_TIZN_15  \\\n",
            "PLCST_NM                          ...                               \n",
            "인천강화                          36  ...            36            36   \n",
            "인천계양                          36  ...            36            36   \n",
            "인천국제공항경찰단                     24  ...            24            24   \n",
            "인천남동                          36  ...            36            36   \n",
            "인천논현                          36  ...            36            36   \n",
            "인천미추홀                         36  ...            36            36   \n",
            "인천부평                          36  ...            36            36   \n",
            "인천삼산                          36  ...            36            36   \n",
            "인천서부                          36  ...            36            36   \n",
            "인천연수                          36  ...            36            36   \n",
            "인천중부                          36  ...            36            36   \n",
            "인천청                           36  ...            36            36   \n",
            "\n",
            "           OCRN_TIZN_16  OCRN_TIZN_17  OCRN_TIZN_18  OCRN_TIZN_19  \\\n",
            "PLCST_NM                                                            \n",
            "인천강화                 36            36            36            36   \n",
            "인천계양                 36            36            36            36   \n",
            "인천국제공항경찰단            24            24            24            24   \n",
            "인천남동                 36            36            36            36   \n",
            "인천논현                 36            36            36            36   \n",
            "인천미추홀                36            36            36            36   \n",
            "인천부평                 36            36            36            36   \n",
            "인천삼산                 36            36            36            36   \n",
            "인천서부                 36            36            36            36   \n",
            "인천연수                 36            36            36            36   \n",
            "인천중부                 36            36            36            36   \n",
            "인천청                  36            36            36            36   \n",
            "\n",
            "           OCRN_TIZN_20  OCRN_TIZN_21  OCRN_TIZN_22  OCRN_TIZN_23  \n",
            "PLCST_NM                                                           \n",
            "인천강화                 36            36            36            36  \n",
            "인천계양                 36            36            36            36  \n",
            "인천국제공항경찰단            24            24            24            24  \n",
            "인천남동                 36            36            36            36  \n",
            "인천논현                 36            36            36            36  \n",
            "인천미추홀                36            36            36            36  \n",
            "인천부평                 36            36            36            36  \n",
            "인천삼산                 36            36            36            36  \n",
            "인천서부                 36            36            36            36  \n",
            "인천연수                 36            36            36            36  \n",
            "인천중부                 36            36            36            36  \n",
            "인천청                  36            36            36            36  \n",
            "\n",
            "[12 rows x 42 columns]\n"
          ]
        }
      ]
    },
    {
      "cell_type": "code",
      "source": [
        "# 소득순위랑 이런거 drop하기\n",
        "# 전체연도별 사건 접수량\n",
        "# 요일별 신고 접수량\n",
        "# 연도별, 시간대별 신고 접수량\n",
        "#연도별, 경차서별 신고 접수량"
      ],
      "metadata": {
        "id": "gJ4WRmIRQ-Cs"
      },
      "execution_count": null,
      "outputs": []
    },
    {
      "cell_type": "code",
      "source": [],
      "metadata": {
        "id": "LDgyyCJSQ-AM"
      },
      "execution_count": null,
      "outputs": []
    },
    {
      "cell_type": "code",
      "source": [],
      "metadata": {
        "id": "y8KLVaFJQ-0U"
      },
      "execution_count": null,
      "outputs": []
    },
    {
      "cell_type": "code",
      "source": [],
      "metadata": {
        "id": "C1xIxtvtQ-xb"
      },
      "execution_count": null,
      "outputs": []
    },
    {
      "cell_type": "code",
      "source": [],
      "metadata": {
        "id": "fbgl3rSjQ-ur"
      },
      "execution_count": null,
      "outputs": []
    },
    {
      "cell_type": "code",
      "source": [],
      "metadata": {
        "id": "yuTT7BhIQ-sM"
      },
      "execution_count": null,
      "outputs": []
    },
    {
      "cell_type": "code",
      "source": [],
      "metadata": {
        "id": "3HmB2V9pp5_a"
      },
      "execution_count": null,
      "outputs": []
    },
    {
      "cell_type": "code",
      "source": [],
      "metadata": {
        "id": "1syUu77Bp58j"
      },
      "execution_count": null,
      "outputs": []
    },
    {
      "cell_type": "code",
      "source": [],
      "metadata": {
        "id": "9j6Uf9Sup556"
      },
      "execution_count": null,
      "outputs": []
    }
  ]
}